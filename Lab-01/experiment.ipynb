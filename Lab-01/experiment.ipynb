{
 "cells": [
  {
   "cell_type": "markdown",
   "id": "4cddc074",
   "metadata": {},
   "source": [
    "\n",
    "## N-gram Code Token Recommender for Java\n",
    "\n",
    "### 1. Setup"
   ]
  },
  {
   "cell_type": "code",
   "execution_count": 59,
   "id": "34804006",
   "metadata": {},
   "outputs": [
    {
     "name": "stdout",
     "output_type": "stream",
     "text": [
      "Setup complete!\n"
     ]
    }
   ],
   "source": [
    "import pandas as pd\n",
    "import numpy as np\n",
    "import matplotlib.pyplot as plt\n",
    "import seaborn as sns\n",
    "from tqdm import tqdm\n",
    "import random\n",
    "import warnings\n",
    "warnings.filterwarnings('ignore')\n",
    "\n",
    "from models.ngram_model import NGramModel\n",
    "from utils.evaluation import calculate_perplexity, evaluate_topk_accuracy\n",
    "\n",
    "# random seed\n",
    "np.random.seed(42)\n",
    "random.seed(42)\n",
    "\n",
    "print(\"Setup complete!\")"
   ]
  },
  {
   "cell_type": "markdown",
   "id": "35011888",
   "metadata": {},
   "source": [
    "### 2. Load Data"
   ]
  },
  {
   "cell_type": "code",
   "execution_count": 60,
   "id": "c377c0f0",
   "metadata": {},
   "outputs": [
    {
     "name": "stdout",
     "output_type": "stream",
     "text": [
      "Training samples: 19998\n",
      "Test samples: 5000\n",
      "\n",
      "Available metrics columns:\n",
      "  - metrics_cyclomatic_complexity\n",
      "  - metrics_n_ast_nodes\n",
      "  - metrics_ast_depth\n",
      "  - metrics_n_identifiers\n",
      "  - metrics_vocab_size\n",
      "  - metrics_n_whitespaces\n",
      "  - metrics_n_words\n",
      "  - metrics_nloc\n",
      "  - metrics_token_counts\n"
     ]
    }
   ],
   "source": [
    "df = pd.read_csv('data/java_methods_dataset.csv')\n",
    "\n",
    "# train and test splits\n",
    "train_df = df[df['dataset_split'] == 'train']\n",
    "test_df = df[df['dataset_split'] == 'test']\n",
    "\n",
    "print(f\"Training samples: {len(train_df)}\")\n",
    "print(f\"Test samples: {len(test_df)}\")\n",
    "\n",
    "# Display available metrics that we can use for analysis\n",
    "print(f\"\\nAvailable metrics columns:\")\n",
    "metric_cols = [col for col in train_df.columns if col.startswith('metrics_')]\n",
    "for col in metric_cols:\n",
    "    print(f\"  - {col}\")"
   ]
  },
  {
   "cell_type": "markdown",
   "id": "71d73406",
   "metadata": {},
   "source": [
    "\n",
    "### 3. Experiment Configuration"
   ]
  },
  {
   "cell_type": "code",
   "execution_count": 61,
   "id": "9b835d19",
   "metadata": {},
   "outputs": [
    {
     "name": "stdout",
     "output_type": "stream",
     "text": [
      "Will test 10 configurations\n"
     ]
    }
   ],
   "source": [
    "# configurations to test\n",
    "configurations = [\n",
    "    {'n': 3, 'smoothing': 'none'},\n",
    "    {'n': 3, 'smoothing': 'laplace'},\n",
    "    {'n': 3, 'smoothing': 'add-k', 'k': 0.1},\n",
    "    {'n': 3, 'smoothing': 'add-k', 'k': 0.5},\n",
    "    \n",
    "    {'n': 5, 'smoothing': 'none'},\n",
    "    {'n': 5, 'smoothing': 'laplace'},\n",
    "    {'n': 5, 'smoothing': 'add-k', 'k': 0.1},\n",
    "    \n",
    "    {'n': 7, 'smoothing': 'laplace'},\n",
    "    {'n': 7, 'smoothing': 'add-k', 'k': 0.1},\n",
    "    \n",
    "    {'n': 11, 'smoothing': 'laplace'},\n",
    "]\n",
    "\n",
    "print(f\"Will test {len(configurations)} configurations\")"
   ]
  },
  {
   "cell_type": "markdown",
   "id": "92a6aaa2",
   "metadata": {},
   "source": [
    "### 4. Run Experiments"
   ]
  },
  {
   "cell_type": "code",
   "execution_count": 62,
   "id": "e4020795",
   "metadata": {},
   "outputs": [
    {
     "name": "stdout",
     "output_type": "stream",
     "text": [
      "\n",
      "==================================================\n",
      "Testing N=3 with none smoothing\n",
      "--------------------------------------------------\n",
      "Training 3-gram model...\n",
      "Training complete. Vocabulary size: 95438\n",
      "Perplexity: 748.91\n"
     ]
    },
    {
     "name": "stderr",
     "output_type": "stream",
     "text": [
      "Evaluating: 100%|██████████| 200/200 [00:02<00:00, 81.10it/s]\n"
     ]
    },
    {
     "name": "stdout",
     "output_type": "stream",
     "text": [
      "Top-1 Accuracy: 50.42%\n",
      "Top-3 Accuracy: 68.22%\n",
      "Top-5 Accuracy: 72.78%\n",
      "\n",
      "==================================================\n",
      "Testing N=3 with laplace smoothing\n",
      "--------------------------------------------------\n",
      "Training 3-gram model...\n",
      "Training complete. Vocabulary size: 95438\n",
      "Perplexity: 2358.48\n"
     ]
    },
    {
     "name": "stderr",
     "output_type": "stream",
     "text": [
      "Evaluating: 100%|██████████| 200/200 [00:02<00:00, 72.49it/s]\n"
     ]
    },
    {
     "name": "stdout",
     "output_type": "stream",
     "text": [
      "Top-1 Accuracy: 50.42%\n",
      "Top-3 Accuracy: 68.22%\n",
      "Top-5 Accuracy: 72.78%\n",
      "\n",
      "==================================================\n",
      "Testing N=3 with add-k smoothing\n",
      "k = 0.1\n",
      "--------------------------------------------------\n",
      "Training 3-gram model...\n",
      "Training complete. Vocabulary size: 95438\n",
      "Perplexity: 676.21\n"
     ]
    },
    {
     "name": "stderr",
     "output_type": "stream",
     "text": [
      "Evaluating: 100%|██████████| 200/200 [00:02<00:00, 66.94it/s]\n"
     ]
    },
    {
     "name": "stdout",
     "output_type": "stream",
     "text": [
      "Top-1 Accuracy: 50.42%\n",
      "Top-3 Accuracy: 68.22%\n",
      "Top-5 Accuracy: 72.78%\n",
      "\n",
      "==================================================\n",
      "Testing N=3 with add-k smoothing\n",
      "k = 0.5\n",
      "--------------------------------------------------\n",
      "Training 3-gram model...\n",
      "Training complete. Vocabulary size: 95438\n",
      "Perplexity: 1590.81\n"
     ]
    },
    {
     "name": "stderr",
     "output_type": "stream",
     "text": [
      "Evaluating: 100%|██████████| 200/200 [00:03<00:00, 66.25it/s]\n"
     ]
    },
    {
     "name": "stdout",
     "output_type": "stream",
     "text": [
      "Top-1 Accuracy: 50.42%\n",
      "Top-3 Accuracy: 68.22%\n",
      "Top-5 Accuracy: 72.78%\n",
      "\n",
      "==================================================\n",
      "Testing N=5 with none smoothing\n",
      "--------------------------------------------------\n",
      "Training 5-gram model...\n",
      "Training complete. Vocabulary size: 95438\n",
      "Perplexity: 45018.42\n"
     ]
    },
    {
     "name": "stderr",
     "output_type": "stream",
     "text": [
      "Evaluating: 100%|██████████| 200/200 [00:00<00:00, 335.83it/s]\n"
     ]
    },
    {
     "name": "stdout",
     "output_type": "stream",
     "text": [
      "Top-1 Accuracy: 63.62%\n",
      "Top-3 Accuracy: 74.79%\n",
      "Top-5 Accuracy: 77.54%\n",
      "\n",
      "==================================================\n",
      "Testing N=5 with laplace smoothing\n",
      "--------------------------------------------------\n",
      "Training 5-gram model...\n",
      "Training complete. Vocabulary size: 95438\n",
      "Perplexity: 16774.94\n"
     ]
    },
    {
     "name": "stderr",
     "output_type": "stream",
     "text": [
      "Evaluating: 100%|██████████| 200/200 [00:00<00:00, 308.31it/s]\n"
     ]
    },
    {
     "name": "stdout",
     "output_type": "stream",
     "text": [
      "Top-1 Accuracy: 63.62%\n",
      "Top-3 Accuracy: 74.79%\n",
      "Top-5 Accuracy: 77.54%\n",
      "\n",
      "==================================================\n",
      "Testing N=5 with add-k smoothing\n",
      "k = 0.1\n",
      "--------------------------------------------------\n",
      "Training 5-gram model...\n",
      "Training complete. Vocabulary size: 95438\n",
      "Perplexity: 5767.85\n"
     ]
    },
    {
     "name": "stderr",
     "output_type": "stream",
     "text": [
      "Evaluating: 100%|██████████| 200/200 [00:00<00:00, 281.16it/s]\n"
     ]
    },
    {
     "name": "stdout",
     "output_type": "stream",
     "text": [
      "Top-1 Accuracy: 63.62%\n",
      "Top-3 Accuracy: 74.79%\n",
      "Top-5 Accuracy: 77.54%\n",
      "\n",
      "==================================================\n",
      "Testing N=7 with laplace smoothing\n",
      "--------------------------------------------------\n",
      "Training 7-gram model...\n",
      "Training complete. Vocabulary size: 95438\n",
      "Perplexity: 38830.59\n"
     ]
    },
    {
     "name": "stderr",
     "output_type": "stream",
     "text": [
      "Evaluating: 100%|██████████| 200/200 [00:00<00:00, 500.81it/s]\n"
     ]
    },
    {
     "name": "stdout",
     "output_type": "stream",
     "text": [
      "Top-1 Accuracy: 72.07%\n",
      "Top-3 Accuracy: 79.67%\n",
      "Top-5 Accuracy: 81.49%\n",
      "\n",
      "==================================================\n",
      "Testing N=7 with add-k smoothing\n",
      "k = 0.1\n",
      "--------------------------------------------------\n",
      "Training 7-gram model...\n",
      "Training complete. Vocabulary size: 95438\n",
      "Perplexity: 17539.38\n"
     ]
    },
    {
     "name": "stderr",
     "output_type": "stream",
     "text": [
      "Evaluating: 100%|██████████| 200/200 [00:00<00:00, 469.12it/s]\n"
     ]
    },
    {
     "name": "stdout",
     "output_type": "stream",
     "text": [
      "Top-1 Accuracy: 72.07%\n",
      "Top-3 Accuracy: 79.67%\n",
      "Top-5 Accuracy: 81.49%\n",
      "\n",
      "==================================================\n",
      "Testing N=11 with laplace smoothing\n",
      "--------------------------------------------------\n",
      "Training 11-gram model...\n",
      "Training complete. Vocabulary size: 95438\n",
      "Perplexity: 61109.71\n"
     ]
    },
    {
     "name": "stderr",
     "output_type": "stream",
     "text": [
      "Evaluating: 100%|██████████| 200/200 [00:00<00:00, 439.07it/s]"
     ]
    },
    {
     "name": "stdout",
     "output_type": "stream",
     "text": [
      "Top-1 Accuracy: 82.50%\n",
      "Top-3 Accuracy: 86.66%\n",
      "Top-5 Accuracy: 87.42%\n"
     ]
    },
    {
     "name": "stderr",
     "output_type": "stream",
     "text": [
      "\n"
     ]
    }
   ],
   "source": [
    "results = []\n",
    "\n",
    "for config in configurations:\n",
    "    print(f\"\\n{'='*50}\")\n",
    "    print(f\"Testing N={config['n']} with {config['smoothing']} smoothing\")\n",
    "    if 'k' in config:\n",
    "        print(f\"k = {config['k']}\")\n",
    "    print('-'*50)\n",
    "    \n",
    "    # Create and train model\n",
    "    model = NGramModel(\n",
    "        n=config['n'], \n",
    "        smoothing=config['smoothing'],\n",
    "        k=config.get('k', 1.0)\n",
    "    )\n",
    "    model.train(train_df)\n",
    "    \n",
    "    # Calculate perplexity\n",
    "    perplexity = calculate_perplexity(model, test_df.head(500))\n",
    "    print(f\"Perplexity: {perplexity:.2f}\")\n",
    "    \n",
    "    # Calculate top-k accuracy\n",
    "    accuracy = evaluate_topk_accuracy(model, test_df.head(200))\n",
    "    print(f\"Top-1 Accuracy: {accuracy['top1_accuracy']*100:.2f}%\")\n",
    "    print(f\"Top-3 Accuracy: {accuracy['top3_accuracy']*100:.2f}%\")\n",
    "    print(f\"Top-5 Accuracy: {accuracy['top5_accuracy']*100:.2f}%\")\n",
    "    \n",
    "    # Store results\n",
    "    results.append({\n",
    "        'n': config['n'],\n",
    "        'smoothing': config['smoothing'],\n",
    "        'k': config.get('k', '-'),\n",
    "        'perplexity': perplexity,\n",
    "        'top1_acc': accuracy['top1_accuracy'],\n",
    "        'top3_acc': accuracy['top3_accuracy'],\n",
    "        'top5_acc': accuracy['top5_accuracy']\n",
    "    })"
   ]
  },
  {
   "cell_type": "markdown",
   "id": "41051526",
   "metadata": {},
   "source": [
    "### 5. Results Summary"
   ]
  },
  {
   "cell_type": "code",
   "execution_count": 63,
   "id": "aab419c5",
   "metadata": {},
   "outputs": [
    {
     "name": "stdout",
     "output_type": "stream",
     "text": [
      "\n",
      "EXPERIMENT RESULTS\n",
      "================================================================================\n",
      " n smoothing    k   perplexity  top1_acc  top3_acc  top5_acc\n",
      " 3      none    -   748.912441  0.504159  0.682218  0.727788\n",
      " 3   laplace    -  2358.481524  0.504159  0.682218  0.727788\n",
      " 3     add-k  0.1   676.211303  0.504159  0.682218  0.727788\n",
      " 3     add-k  0.5  1590.806116  0.504159  0.682218  0.727788\n",
      " 5      none    - 45018.423442  0.636192  0.747879  0.775369\n",
      " 5   laplace    - 16774.940610  0.636192  0.747879  0.775369\n",
      " 5     add-k  0.1  5767.850406  0.636192  0.747879  0.775369\n",
      " 7   laplace    - 38830.586214  0.720743  0.796698  0.814861\n",
      " 7     add-k  0.1 17539.380017  0.720743  0.796698  0.814861\n",
      "11   laplace    - 61109.709961  0.825030  0.866646  0.874241\n",
      "\n",
      "Best Configurations:\n",
      "Lowest Perplexity: N=3, add-k (Perplexity: 676.21)\n",
      "Highest Accuracy: N=11, laplace (Top-1: 82.50%)\n"
     ]
    }
   ],
   "source": [
    "results_df = pd.DataFrame(results)\n",
    "\n",
    "# results table\n",
    "print(\"\\nEXPERIMENT RESULTS\")\n",
    "print(\"=\"*80)\n",
    "print(results_df.to_string(index=False))\n",
    "\n",
    "# best configurations\n",
    "best_perp = results_df.loc[results_df['perplexity'].idxmin()]\n",
    "best_acc = results_df.loc[results_df['top1_acc'].idxmax()]\n",
    "\n",
    "print(f\"\\nBest Configurations:\")\n",
    "print(f\"Lowest Perplexity: N={best_perp['n']}, {best_perp['smoothing']} (Perplexity: {best_perp['perplexity']:.2f})\")\n",
    "print(f\"Highest Accuracy: N={best_acc['n']}, {best_acc['smoothing']} (Top-1: {best_acc['top1_acc']*100:.2f}%)\")"
   ]
  },
  {
   "cell_type": "markdown",
   "id": "60c69cee",
   "metadata": {},
   "source": [
    "### 6. Visualize Results"
   ]
  },
  {
   "cell_type": "code",
   "execution_count": 64,
   "id": "99f9f2ad",
   "metadata": {},
   "outputs": [
    {
     "data": {
      "image/png": "[encoded data removed]",
      "text/plain": [
       "<Figure size 1500x500 with 3 Axes>"
      ]
     },
     "metadata": {},
     "output_type": "display_data"
    }
   ],
   "source": [
    "fig, axes = plt.subplots(1, 3, figsize=(15, 5))\n",
    "\n",
    "# Perplexity by N\n",
    "ax1 = axes[0]\n",
    "for smoothing in results_df['smoothing'].unique():\n",
    "    data = results_df[results_df['smoothing'] == smoothing]\n",
    "    ax1.plot(data['n'], data['perplexity'], marker='o', label=smoothing)\n",
    "ax1.set_xlabel('N-gram Size')\n",
    "ax1.set_ylabel('Perplexity (lower is better)')\n",
    "ax1.set_title('Perplexity by N-gram Size')\n",
    "ax1.legend()\n",
    "ax1.grid(True, alpha=0.3)\n",
    "\n",
    "# Top-1 Accuracy by N\n",
    "ax2 = axes[1]\n",
    "for smoothing in results_df['smoothing'].unique():\n",
    "    data = results_df[results_df['smoothing'] == smoothing]\n",
    "    ax2.plot(data['n'], data['top1_acc']*100, marker='o', label=smoothing)\n",
    "ax2.set_xlabel('N-gram Size')\n",
    "ax2.set_ylabel('Top-1 Accuracy (%)')\n",
    "ax2.set_title('Top-1 Accuracy by N-gram Size')\n",
    "ax2.legend()\n",
    "ax2.grid(True, alpha=0.3)\n",
    "\n",
    "# Accuracy comparison for best model\n",
    "ax3 = axes[2]\n",
    "accuracies = [best_acc['top1_acc'], best_acc['top3_acc'], best_acc['top5_acc']]\n",
    "labels = ['Top-1', 'Top-3', 'Top-5']\n",
    "bars = ax3.bar(labels, [a*100 for a in accuracies])\n",
    "ax3.set_ylabel('Accuracy (%)')\n",
    "ax3.set_title(f'Best Model Accuracy (N={int(best_acc[\"n\"])}, {best_acc[\"smoothing\"]})')\n",
    "ax3.grid(True, alpha=0.3, axis='y')\n",
    "\n",
    "# Add values on bars\n",
    "for bar, val in zip(bars, accuracies):\n",
    "    ax3.text(bar.get_x() + bar.get_width()/2, val*100 + 1, \n",
    "            f'{val*100:.1f}%', ha='center', va='bottom')\n",
    "\n",
    "plt.tight_layout()\n",
    "plt.show()\n"
   ]
  },
  {
   "cell_type": "markdown",
   "id": "07c57a40",
   "metadata": {},
   "source": [
    "### 7. Performance by Code Complexity"
   ]
  },
  {
   "cell_type": "code",
   "execution_count": 65,
   "id": "77e17561",
   "metadata": {},
   "outputs": [
    {
     "name": "stdout",
     "output_type": "stream",
     "text": [
      "\n",
      "Performance by Code Complexity\n",
      "==================================================\n",
      "Training 11-gram model...\n",
      "Training complete. Vocabulary size: 95438\n"
     ]
    },
    {
     "name": "stderr",
     "output_type": "stream",
     "text": [
      "Evaluating: 100%|██████████| 50/50 [00:00<00:00, 433.14it/s]\n",
      "Evaluating: 100%|██████████| 50/50 [00:00<00:00, 419.01it/s]\n",
      "Evaluating: 100%|██████████| 50/50 [00:00<00:00, 420.05it/s]\n",
      "Evaluating: 100%|██████████| 50/50 [00:00<00:00, 441.58it/s]"
     ]
    },
    {
     "name": "stdout",
     "output_type": "stream",
     "text": [
      "     complexity  samples  top1_acc  top5_acc\n",
      "      Low (1-2)       50 83.922046 88.550548\n",
      "   Medium (3-5)       50 85.188867 89.463221\n",
      "    High (6-10)       50 77.388535 82.484076\n",
      "Very High (>10)       50 73.440000 82.080000\n"
     ]
    },
    {
     "name": "stderr",
     "output_type": "stream",
     "text": [
      "\n"
     ]
    },
    {
     "data": {
      "image/png": "[encoded data removed]",
      "text/plain": [
       "<Figure size 800x500 with 1 Axes>"
      ]
     },
     "metadata": {},
     "output_type": "display_data"
    }
   ],
   "source": [
    "# Analyze performance by complexity\n",
    "print(\"\\nPerformance by Code Complexity\")\n",
    "print(\"=\"*50)\n",
    "\n",
    "# Train best model\n",
    "best_model = NGramModel(\n",
    "    n=int(best_acc['n']), \n",
    "    smoothing=best_acc['smoothing'],\n",
    "    k=0.1 if best_acc['smoothing'] == 'add-k' else 1.0\n",
    ")\n",
    "best_model.train(train_df)\n",
    "\n",
    "# test data by complexity\n",
    "complexity_levels = pd.cut(\n",
    "    test_df['metrics_cyclomatic_complexity'], \n",
    "    bins=[0, 2, 5, 10, float('inf')],\n",
    "    labels=['Low (1-2)', 'Medium (3-5)', 'High (6-10)', 'Very High (>10)']\n",
    ")\n",
    "\n",
    "complexity_results = []\n",
    "for level in ['Low (1-2)', 'Medium (3-5)', 'High (6-10)', 'Very High (>10)']:\n",
    "    level_df = test_df[complexity_levels == level].head(50)\n",
    "    if len(level_df) > 0:\n",
    "        accuracy = evaluate_topk_accuracy(best_model, level_df)\n",
    "        complexity_results.append({\n",
    "            'complexity': level,\n",
    "            'samples': len(level_df),\n",
    "            'top1_acc': accuracy['top1_accuracy']*100,\n",
    "            'top5_acc': accuracy['top5_accuracy']*100\n",
    "        })\n",
    "\n",
    "complexity_df = pd.DataFrame(complexity_results)\n",
    "print(complexity_df.to_string(index=False))\n",
    "\n",
    "# Visualize\n",
    "fig, ax = plt.subplots(figsize=(8, 5))\n",
    "x = range(len(complexity_df))\n",
    "width = 0.35\n",
    "ax.bar([i - width/2 for i in x], complexity_df['top1_acc'], width, label='Top-1', color='skyblue')\n",
    "ax.bar([i + width/2 for i in x], complexity_df['top5_acc'], width, label='Top-5', color='lightcoral')\n",
    "ax.set_xticks(x)\n",
    "ax.set_xticklabels(complexity_df['complexity'])\n",
    "ax.set_ylabel('Accuracy (%)')\n",
    "ax.set_title('Model Performance by Code Complexity')\n",
    "ax.legend()\n",
    "ax.grid(True, alpha=0.3, axis='y')\n",
    "plt.show()\n"
   ]
  },
  {
   "cell_type": "markdown",
   "id": "84df2b06",
   "metadata": {},
   "source": [
    "### 8. Evaluation"
   ]
  },
  {
   "cell_type": "code",
   "execution_count": 66,
   "id": "330325f0",
   "metadata": {},
   "outputs": [
    {
     "name": "stdout",
     "output_type": "stream",
     "text": [
      "\n",
      "🚀 Large-Scale Evaluation on 1000 Test Samples\n",
      "============================================================\n"
     ]
    },
    {
     "name": "stderr",
     "output_type": "stream",
     "text": [
      "Evaluating: 100%|██████████| 1000/1000 [00:02<00:00, 450.41it/s]"
     ]
    },
    {
     "name": "stdout",
     "output_type": "stream",
     "text": [
      "Top-1 Accuracy: 82.82%\n",
      "Top-3 Accuracy: 87.17%\n",
      "Top-5 Accuracy: 87.74%\n",
      "Total predictions evaluated: 16,142\n"
     ]
    },
    {
     "name": "stderr",
     "output_type": "stream",
     "text": [
      "\n"
     ]
    }
   ],
   "source": [
    "print(\"\\n🚀 Large-Scale Evaluation on 1000 Test Samples\")\n",
    "print(\"=\"*60)\n",
    "\n",
    "# Evaluate on 1000 samples\n",
    "large_scale_accuracy = evaluate_topk_accuracy(best_model, test_df.head(1000))\n",
    "\n",
    "print(f\"Top-1 Accuracy: {large_scale_accuracy['top1_accuracy']*100:.2f}%\")\n",
    "print(f\"Top-3 Accuracy: {large_scale_accuracy['top3_accuracy']*100:.2f}%\")\n",
    "print(f\"Top-5 Accuracy: {large_scale_accuracy['top5_accuracy']*100:.2f}%\")\n",
    "print(f\"Total predictions evaluated: {large_scale_accuracy['total_predictions']:,}\")"
   ]
  },
  {
   "cell_type": "markdown",
   "id": "96122ac2",
   "metadata": {},
   "source": [
    "### Sample Predictions"
   ]
  },
  {
   "cell_type": "code",
   "execution_count": 67,
   "id": "ca89b288",
   "metadata": {},
   "outputs": [
    {
     "name": "stdout",
     "output_type": "stream",
     "text": [
      "--- Training the Final Model ---\n",
      "Training 5-gram model...\n",
      "Training complete. Vocabulary size: 95438\n",
      "Final model training complete.\n",
      "\n",
      " Generating predictions for 1000 test samples...\n"
     ]
    },
    {
     "name": "stderr",
     "output_type": "stream",
     "text": [
      "100%|██████████| 1000/1000 [00:00<00:00, 1521.76it/s]"
     ]
    },
    {
     "name": "stdout",
     "output_type": "stream",
     "text": [
      "\n",
      "Successfully generated predictions and saved them to 'sample_prediction.csv'\n"
     ]
    },
    {
     "name": "stderr",
     "output_type": "stream",
     "text": [
      "\n"
     ]
    },
    {
     "data": {
      "text/html": [
       "<div>\n",
       "<style scoped>\n",
       "    .dataframe tbody tr th:only-of-type {\n",
       "        vertical-align: middle;\n",
       "    }\n",
       "\n",
       "    .dataframe tbody tr th {\n",
       "        vertical-align: top;\n",
       "    }\n",
       "\n",
       "    .dataframe thead th {\n",
       "        text-align: right;\n",
       "    }\n",
       "</style>\n",
       "<table border=\"1\" class=\"dataframe\">\n",
       "  <thead>\n",
       "    <tr style=\"text-align: right;\">\n",
       "      <th></th>\n",
       "      <th>input_context</th>\n",
       "      <th>next_5_tokens (probability)</th>\n",
       "      <th>sampled_completion</th>\n",
       "    </tr>\n",
       "  </thead>\n",
       "  <tbody>\n",
       "    <tr>\n",
       "      <th>0</th>\n",
       "      <td>void throwFileNotFound private (</td>\n",
       "      <td></td>\n",
       "      <td>void throwFileNotFound private (</td>\n",
       "    </tr>\n",
       "    <tr>\n",
       "      <th>1</th>\n",
       "      <td>void testBiggest public</td>\n",
       "      <td></td>\n",
       "      <td>void testBiggest public</td>\n",
       "    </tr>\n",
       "    <tr>\n",
       "      <th>2</th>\n",
       "      <td>void testAllIsNotAllowedInShardLevelRequests p...</td>\n",
       "      <td>( (0.043), { (0.028), @ (0.025), if (0.013), &lt;...</td>\n",
       "      <td>void testAllIsNotAllowedInShardLevelRequests p...</td>\n",
       "    </tr>\n",
       "    <tr>\n",
       "      <th>3</th>\n",
       "      <td>toEvaluator public . Factory ( )</td>\n",
       "      <td>{ (0.000), Strings (0.000), ( (0.000), ArrayLi...</td>\n",
       "      <td>toEvaluator public . Factory ( ) { }</td>\n",
       "    </tr>\n",
       "    <tr>\n",
       "      <th>4</th>\n",
       "      <td>ConditionOutcome getMatchOutcome public ( , )</td>\n",
       "      <td>{ (0.009), throws (0.004)</td>\n",
       "      <td>ConditionOutcome getMatchOutcome public ( , ) { }</td>\n",
       "    </tr>\n",
       "  </tbody>\n",
       "</table>\n",
       "</div>"
      ],
      "text/plain": [
       "                                       input_context  \\\n",
       "0                   void throwFileNotFound private (   \n",
       "1                            void testBiggest public   \n",
       "2  void testAllIsNotAllowedInShardLevelRequests p...   \n",
       "3                   toEvaluator public . Factory ( )   \n",
       "4      ConditionOutcome getMatchOutcome public ( , )   \n",
       "\n",
       "                         next_5_tokens (probability)  \\\n",
       "0                                                      \n",
       "1                                                      \n",
       "2  ( (0.043), { (0.028), @ (0.025), if (0.013), <...   \n",
       "3  { (0.000), Strings (0.000), ( (0.000), ArrayLi...   \n",
       "4                          { (0.009), throws (0.004)   \n",
       "\n",
       "                                  sampled_completion  \n",
       "0                  void throwFileNotFound private (   \n",
       "1                           void testBiggest public   \n",
       "2  void testAllIsNotAllowedInShardLevelRequests p...  \n",
       "3               toEvaluator public . Factory ( ) { }  \n",
       "4  ConditionOutcome getMatchOutcome public ( , ) { }  "
      ]
     },
     "metadata": {},
     "output_type": "display_data"
    }
   ],
   "source": [
    "import pandas as pd\n",
    "from tqdm import tqdm\n",
    "import json\n",
    "import random\n",
    "\n",
    "print(\"--- Training the Final Model ---\")\n",
    "best_config = {'n': 5, 'smoothing': 'laplace'}\n",
    "best_model = NGramModel(\n",
    "    n=best_config['n'],\n",
    "    smoothing=best_config['smoothing']\n",
    ")\n",
    "best_model.train(train_df)\n",
    "print(\"Final model training complete.\")\n",
    "\n",
    "\n",
    "# Predictions with the Trained Model ---\n",
    "\n",
    "# Configuration\n",
    "NUM_SAMPLES = 1000\n",
    "MIN_CONTEXT_SIZE = 3\n",
    "MAX_CONTEXT_SIZE = 10\n",
    "MAX_COMPLETION_TOKENS = 50\n",
    "\n",
    "# Setup\n",
    "large_scale_samples = test_df.head(NUM_SAMPLES)\n",
    "prediction_results = []\n",
    "\n",
    "print(f\"\\n Generating predictions for {NUM_SAMPLES} test samples...\")\n",
    "\n",
    "# text-based progress bar\n",
    "for idx, row in tqdm(large_scale_samples.iterrows(), total=len(large_scale_samples)):\n",
    "    try:\n",
    "        tokens = json.loads(row['code_tokens'])\n",
    "    except:\n",
    "        tokens = eval(row['code_tokens']) # Fallback\n",
    "\n",
    "    if len(tokens) <= MIN_CONTEXT_SIZE:\n",
    "        continue\n",
    "\n",
    "    # context size randomly selected\n",
    "    effective_max_context = min(MAX_CONTEXT_SIZE, len(tokens) - 1)\n",
    "    context_size = random.randint(MIN_CONTEXT_SIZE, effective_max_context)\n",
    "\n",
    "    input_context = tokens[:context_size]\n",
    "\n",
    "    # next 5 possible tokens and their probabilities\n",
    "    next_tokens_with_probs = best_model.predict_next_tokens(input_context, top_k=5)\n",
    "\n",
    "    formatted_predictions = \", \".join([f\"{token} ({prob:.3f})\" for token, prob in next_tokens_with_probs])\n",
    "\n",
    "    # sampled completion\n",
    "    completion, _ = best_model.sample_completion(input_context, max_length=MAX_COMPLETION_TOKENS)\n",
    "    full_completion_str = ' '.join(input_context) + ' ' + ' '.join(completion)\n",
    "\n",
    "    prediction_results.append({\n",
    "        'input_context': ' '.join(input_context),\n",
    "        'next_5_tokens (probability)': formatted_predictions,\n",
    "        'sampled_completion': full_completion_str\n",
    "    })\n",
    "\n",
    "predictions_df = pd.DataFrame(prediction_results)\n",
    "output_csv_path = 'sample_prediction.csv'\n",
    "predictions_df.to_csv(output_csv_path, index=False)\n",
    "\n",
    "print(f\"\\nSuccessfully generated predictions and saved them to '{output_csv_path}'\")\n",
    "display(predictions_df.head())"
   ]
  },
  {
   "cell_type": "markdown",
   "id": "abff893b",
   "metadata": {},
   "source": [
    "### 10. Final Summary"
   ]
  },
  {
   "cell_type": "code",
   "execution_count": 68,
   "id": "19cb248b",
   "metadata": {},
   "outputs": [
    {
     "name": "stdout",
     "output_type": "stream",
     "text": [
      "\n",
      "============================================================\n",
      "EXPERIMENT SUMMARY\n",
      "============================================================\n",
      "\n",
      "Best Configuration:\n",
      "- N-gram size: 11\n",
      "- Smoothing: laplace\n",
      "- Perplexity: 61109.71\n",
      "\n",
      "Performance on 1000 test samples:\n",
      "- Top-1 Accuracy: 82.82%\n",
      "- Top-3 Accuracy: 87.17%\n",
      "- Top-5 Accuracy: 87.74%\n",
      "\n"
     ]
    }
   ],
   "source": [
    "\n",
    "print(\"\\n\" + \"=\"*60)\n",
    "print(\"EXPERIMENT SUMMARY\")\n",
    "print(\"=\"*60)\n",
    "\n",
    "print(f\"\"\"\n",
    "Best Configuration:\n",
    "- N-gram size: {int(best_acc['n'])}\n",
    "- Smoothing: {best_acc['smoothing']}\n",
    "- Perplexity: {best_acc['perplexity']:.2f}\n",
    "\n",
    "Performance on 1000 test samples:\n",
    "- Top-1 Accuracy: {large_scale_accuracy['top1_accuracy']*100:.2f}%\n",
    "- Top-3 Accuracy: {large_scale_accuracy['top3_accuracy']*100:.2f}%\n",
    "- Top-5 Accuracy: {large_scale_accuracy['top5_accuracy']*100:.2f}%\n",
    "\"\"\")"
   ]
  },
  {
   "cell_type": "code",
   "execution_count": 69,
   "id": "c7808f86",
   "metadata": {},
   "outputs": [
    {
     "name": "stdout",
     "output_type": "stream",
     "text": [
      "Results saved to 'experiment_results.csv'\n"
     ]
    }
   ],
   "source": [
    "# Save results\n",
    "results_df.to_csv('experiment_results.csv', index=False)\n",
    "print(\"Results saved to 'experiment_results.csv'\")"
   ]
  }
 ],
 "metadata": {
  "kernelspec": {
   "display_name": "Python 3",
   "language": "python",
   "name": "python3"
  },
  "language_info": {
   "codemirror_mode": {
    "name": "ipython",
    "version": 3
   },
   "file_extension": ".py",
   "mimetype": "text/x-python",
   "name": "python",
   "nbconvert_exporter": "python",
   "pygments_lexer": "ipython3",
   "version": "3.11.9"
  }
 },
 "nbformat": 4,
 "nbformat_minor": 5
}
