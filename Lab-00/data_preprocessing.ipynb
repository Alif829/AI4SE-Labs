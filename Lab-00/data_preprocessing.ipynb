{
 "cells": [
  {
   "cell_type": "code",
   "execution_count": 91,
   "id": "cfd4bc96",
   "metadata": {},
   "outputs": [],
   "source": [
    "import pandas as pd\n",
    "from sklearn.model_selection import train_test_split"
   ]
  },
  {
   "cell_type": "code",
   "execution_count": 92,
   "id": "e0a2e399",
   "metadata": {},
   "outputs": [],
   "source": [
    "import os\n",
    "import json\n",
    "\n",
    "output_folder = 'output'\n",
    "\n",
    "all_records = []\n",
    "\n",
    "# Traverse each folder in the output directory\n",
    "for folder_name in os.listdir(output_folder):\n",
    "    folder_path = os.path.join(output_folder, folder_name)\n",
    "    if os.path.isdir(folder_path):\n",
    "        # Find all jsonl files in the folder\n",
    "        for file_name in os.listdir(folder_path):\n",
    "            if file_name.endswith('.jsonl'):\n",
    "                file_path = os.path.join(folder_path, file_name)\n",
    "                with open(file_path, 'r', encoding='utf-8') as f:\n",
    "                    for line in f:\n",
    "                        record = json.loads(line)\n",
    "                        all_records.append(record)"
   ]
  },
  {
   "cell_type": "code",
   "execution_count": 93,
   "id": "22ac8d84",
   "metadata": {},
   "outputs": [],
   "source": [
    "def unpack_records(records):\n",
    "    unpacked = []\n",
    "    for rec in records:\n",
    "        flat = {}\n",
    "        for k, v in rec.items():\n",
    "            if isinstance(v, dict):\n",
    "                for sub_k, sub_v in v.items():\n",
    "                    flat[f\"{k}_{sub_k}\"] = sub_v\n",
    "            else:\n",
    "                flat[k] = v\n",
    "        unpacked.append(flat)\n",
    "    return unpacked\n",
    "\n",
    "unpacked_records = unpack_records(all_records)\n",
    "df = pd.DataFrame(unpacked_records)"
   ]
  },
  {
   "cell_type": "code",
   "execution_count": 94,
   "id": "0009efcb",
   "metadata": {},
   "outputs": [
    {
     "data": {
      "text/html": [
       "<div>\n",
       "<style scoped>\n",
       "    .dataframe tbody tr th:only-of-type {\n",
       "        vertical-align: middle;\n",
       "    }\n",
       "\n",
       "    .dataframe tbody tr th {\n",
       "        vertical-align: top;\n",
       "    }\n",
       "\n",
       "    .dataframe thead th {\n",
       "        text-align: right;\n",
       "    }\n",
       "</style>\n",
       "<table border=\"1\" class=\"dataframe\">\n",
       "  <thead>\n",
       "    <tr style=\"text-align: right;\">\n",
       "      <th></th>\n",
       "      <th>dataset_split</th>\n",
       "      <th>id</th>\n",
       "      <th>repo_name</th>\n",
       "      <th>repo_url</th>\n",
       "      <th>repo_commit_sha</th>\n",
       "      <th>repo_license</th>\n",
       "      <th>file_path</th>\n",
       "      <th>file_language</th>\n",
       "      <th>method_name</th>\n",
       "      <th>method_qualified_name</th>\n",
       "      <th>...</th>\n",
       "      <th>code_tokens</th>\n",
       "      <th>metrics_cyclomatic_complexity</th>\n",
       "      <th>metrics_n_ast_nodes</th>\n",
       "      <th>metrics_ast_depth</th>\n",
       "      <th>metrics_n_identifiers</th>\n",
       "      <th>metrics_vocab_size</th>\n",
       "      <th>metrics_n_whitespaces</th>\n",
       "      <th>metrics_n_words</th>\n",
       "      <th>metrics_nloc</th>\n",
       "      <th>metrics_token_counts</th>\n",
       "    </tr>\n",
       "  </thead>\n",
       "  <tbody>\n",
       "    <tr>\n",
       "      <th>0</th>\n",
       "      <td>train</td>\n",
       "      <td>elasticsearch@264a885:server/src/main/java/org...</td>\n",
       "      <td>elasticsearch</td>\n",
       "      <td>https://github.com/elastic/elasticsearch</td>\n",
       "      <td>264a8852cbd870e452846b7beb96e325b13b17ce</td>\n",
       "      <td>other</td>\n",
       "      <td>server/src/main/java/org/elasticsearch/cluster...</td>\n",
       "      <td>Java</td>\n",
       "      <td>removeExistingIndexBlocks</td>\n",
       "      <td>org.elasticsearch.cluster.routing.allocation.D...</td>\n",
       "      <td>...</td>\n",
       "      <td>[void, removeExistingIndexBlocks, private, (, ...</td>\n",
       "      <td>3</td>\n",
       "      <td>314</td>\n",
       "      <td>15</td>\n",
       "      <td>41</td>\n",
       "      <td>70</td>\n",
       "      <td>402</td>\n",
       "      <td>91</td>\n",
       "      <td>31</td>\n",
       "      <td>213</td>\n",
       "    </tr>\n",
       "    <tr>\n",
       "      <th>1</th>\n",
       "      <td>train</td>\n",
       "      <td>elasticsearch@264a885:server/src/main/java/org...</td>\n",
       "      <td>elasticsearch</td>\n",
       "      <td>https://github.com/elastic/elasticsearch</td>\n",
       "      <td>264a8852cbd870e452846b7beb96e325b13b17ce</td>\n",
       "      <td>other</td>\n",
       "      <td>server/src/main/java/org/elasticsearch/cluster...</td>\n",
       "      <td>Java</td>\n",
       "      <td>cleanUpRemovedNodes</td>\n",
       "      <td>org.elasticsearch.cluster.routing.allocation.D...</td>\n",
       "      <td>...</td>\n",
       "      <td>[void, cleanUpRemovedNodes, private, static, (...</td>\n",
       "      <td>3</td>\n",
       "      <td>70</td>\n",
       "      <td>11</td>\n",
       "      <td>6</td>\n",
       "      <td>25</td>\n",
       "      <td>82</td>\n",
       "      <td>22</td>\n",
       "      <td>7</td>\n",
       "      <td>48</td>\n",
       "    </tr>\n",
       "    <tr>\n",
       "      <th>2</th>\n",
       "      <td>train</td>\n",
       "      <td>elasticsearch@264a885:server/src/main/java/org...</td>\n",
       "      <td>elasticsearch</td>\n",
       "      <td>https://github.com/elastic/elasticsearch</td>\n",
       "      <td>264a8852cbd870e452846b7beb96e325b13b17ce</td>\n",
       "      <td>other</td>\n",
       "      <td>server/src/main/java/org/elasticsearch/cluster...</td>\n",
       "      <td>Java</td>\n",
       "      <td>isDedicatedFrozenNode</td>\n",
       "      <td>org.elasticsearch.cluster.routing.allocation.D...</td>\n",
       "      <td>...</td>\n",
       "      <td>[boolean, isDedicatedFrozenNode, private, stat...</td>\n",
       "      <td>2</td>\n",
       "      <td>55</td>\n",
       "      <td>8</td>\n",
       "      <td>3</td>\n",
       "      <td>20</td>\n",
       "      <td>68</td>\n",
       "      <td>18</td>\n",
       "      <td>7</td>\n",
       "      <td>37</td>\n",
       "    </tr>\n",
       "    <tr>\n",
       "      <th>3</th>\n",
       "      <td>train</td>\n",
       "      <td>elasticsearch@264a885:server/src/main/java/org...</td>\n",
       "      <td>elasticsearch</td>\n",
       "      <td>https://github.com/elastic/elasticsearch</td>\n",
       "      <td>264a8852cbd870e452846b7beb96e325b13b17ce</td>\n",
       "      <td>other</td>\n",
       "      <td>server/src/main/java/org/elasticsearch/node/No...</td>\n",
       "      <td>Java</td>\n",
       "      <td>prepareConstruction</td>\n",
       "      <td>org.elasticsearch.node.NodeConstruction#prepar...</td>\n",
       "      <td>...</td>\n",
       "      <td>[NodeConstruction, prepareConstruction, static...</td>\n",
       "      <td>3</td>\n",
       "      <td>369</td>\n",
       "      <td>14</td>\n",
       "      <td>35</td>\n",
       "      <td>76</td>\n",
       "      <td>701</td>\n",
       "      <td>178</td>\n",
       "      <td>45</td>\n",
       "      <td>265</td>\n",
       "    </tr>\n",
       "    <tr>\n",
       "      <th>4</th>\n",
       "      <td>train</td>\n",
       "      <td>elasticsearch@264a885:server/src/main/java/org...</td>\n",
       "      <td>elasticsearch</td>\n",
       "      <td>https://github.com/elastic/elasticsearch</td>\n",
       "      <td>264a8852cbd870e452846b7beb96e325b13b17ce</td>\n",
       "      <td>other</td>\n",
       "      <td>server/src/main/java/org/elasticsearch/node/No...</td>\n",
       "      <td>Java</td>\n",
       "      <td>injector</td>\n",
       "      <td>org.elasticsearch.node.NodeConstruction#injector</td>\n",
       "      <td>...</td>\n",
       "      <td>[Injector, injector, (, ), {, }, return, injec...</td>\n",
       "      <td>1</td>\n",
       "      <td>14</td>\n",
       "      <td>5</td>\n",
       "      <td>1</td>\n",
       "      <td>8</td>\n",
       "      <td>17</td>\n",
       "      <td>4</td>\n",
       "      <td>3</td>\n",
       "      <td>9</td>\n",
       "    </tr>\n",
       "  </tbody>\n",
       "</table>\n",
       "<p>5 rows × 25 columns</p>\n",
       "</div>"
      ],
      "text/plain": [
       "  dataset_split                                                 id  \\\n",
       "0         train  elasticsearch@264a885:server/src/main/java/org...   \n",
       "1         train  elasticsearch@264a885:server/src/main/java/org...   \n",
       "2         train  elasticsearch@264a885:server/src/main/java/org...   \n",
       "3         train  elasticsearch@264a885:server/src/main/java/org...   \n",
       "4         train  elasticsearch@264a885:server/src/main/java/org...   \n",
       "\n",
       "       repo_name                                  repo_url  \\\n",
       "0  elasticsearch  https://github.com/elastic/elasticsearch   \n",
       "1  elasticsearch  https://github.com/elastic/elasticsearch   \n",
       "2  elasticsearch  https://github.com/elastic/elasticsearch   \n",
       "3  elasticsearch  https://github.com/elastic/elasticsearch   \n",
       "4  elasticsearch  https://github.com/elastic/elasticsearch   \n",
       "\n",
       "                            repo_commit_sha repo_license  \\\n",
       "0  264a8852cbd870e452846b7beb96e325b13b17ce        other   \n",
       "1  264a8852cbd870e452846b7beb96e325b13b17ce        other   \n",
       "2  264a8852cbd870e452846b7beb96e325b13b17ce        other   \n",
       "3  264a8852cbd870e452846b7beb96e325b13b17ce        other   \n",
       "4  264a8852cbd870e452846b7beb96e325b13b17ce        other   \n",
       "\n",
       "                                           file_path file_language  \\\n",
       "0  server/src/main/java/org/elasticsearch/cluster...          Java   \n",
       "1  server/src/main/java/org/elasticsearch/cluster...          Java   \n",
       "2  server/src/main/java/org/elasticsearch/cluster...          Java   \n",
       "3  server/src/main/java/org/elasticsearch/node/No...          Java   \n",
       "4  server/src/main/java/org/elasticsearch/node/No...          Java   \n",
       "\n",
       "                 method_name  \\\n",
       "0  removeExistingIndexBlocks   \n",
       "1        cleanUpRemovedNodes   \n",
       "2      isDedicatedFrozenNode   \n",
       "3        prepareConstruction   \n",
       "4                   injector   \n",
       "\n",
       "                               method_qualified_name  ...  \\\n",
       "0  org.elasticsearch.cluster.routing.allocation.D...  ...   \n",
       "1  org.elasticsearch.cluster.routing.allocation.D...  ...   \n",
       "2  org.elasticsearch.cluster.routing.allocation.D...  ...   \n",
       "3  org.elasticsearch.node.NodeConstruction#prepar...  ...   \n",
       "4   org.elasticsearch.node.NodeConstruction#injector  ...   \n",
       "\n",
       "                                         code_tokens  \\\n",
       "0  [void, removeExistingIndexBlocks, private, (, ...   \n",
       "1  [void, cleanUpRemovedNodes, private, static, (...   \n",
       "2  [boolean, isDedicatedFrozenNode, private, stat...   \n",
       "3  [NodeConstruction, prepareConstruction, static...   \n",
       "4  [Injector, injector, (, ), {, }, return, injec...   \n",
       "\n",
       "   metrics_cyclomatic_complexity metrics_n_ast_nodes metrics_ast_depth  \\\n",
       "0                              3                 314                15   \n",
       "1                              3                  70                11   \n",
       "2                              2                  55                 8   \n",
       "3                              3                 369                14   \n",
       "4                              1                  14                 5   \n",
       "\n",
       "  metrics_n_identifiers metrics_vocab_size  metrics_n_whitespaces  \\\n",
       "0                    41                 70                    402   \n",
       "1                     6                 25                     82   \n",
       "2                     3                 20                     68   \n",
       "3                    35                 76                    701   \n",
       "4                     1                  8                     17   \n",
       "\n",
       "   metrics_n_words  metrics_nloc  metrics_token_counts  \n",
       "0               91            31                   213  \n",
       "1               22             7                    48  \n",
       "2               18             7                    37  \n",
       "3              178            45                   265  \n",
       "4                4             3                     9  \n",
       "\n",
       "[5 rows x 25 columns]"
      ]
     },
     "execution_count": 94,
     "metadata": {},
     "output_type": "execute_result"
    }
   ],
   "source": [
    "df.head()"
   ]
  },
  {
   "cell_type": "code",
   "execution_count": 95,
   "id": "8bf51da8",
   "metadata": {},
   "outputs": [
    {
     "data": {
      "text/plain": [
       "500000"
      ]
     },
     "execution_count": 95,
     "metadata": {},
     "output_type": "execute_result"
    }
   ],
   "source": [
    "len(df)"
   ]
  },
  {
   "cell_type": "code",
   "execution_count": 96,
   "id": "3dae184d",
   "metadata": {},
   "outputs": [
    {
     "data": {
      "text/plain": [
       "Index(['dataset_split', 'id', 'repo_name', 'repo_url', 'repo_commit_sha',\n",
       "       'repo_license', 'file_path', 'file_language', 'method_name',\n",
       "       'method_qualified_name', 'method_start_line', 'method_end_line',\n",
       "       'method_signature', 'method_original_code', 'method_doc_comment',\n",
       "       'code_tokens', 'metrics_cyclomatic_complexity', 'metrics_n_ast_nodes',\n",
       "       'metrics_ast_depth', 'metrics_n_identifiers', 'metrics_vocab_size',\n",
       "       'metrics_n_whitespaces', 'metrics_n_words', 'metrics_nloc',\n",
       "       'metrics_token_counts'],\n",
       "      dtype='object')"
      ]
     },
     "execution_count": 96,
     "metadata": {},
     "output_type": "execute_result"
    }
   ],
   "source": [
    "df.columns"
   ]
  },
  {
   "cell_type": "code",
   "execution_count": 97,
   "id": "79c7edcb",
   "metadata": {},
   "outputs": [],
   "source": [
    "df = df.drop(columns=['repo_license'])"
   ]
  },
  {
   "cell_type": "code",
   "execution_count": 98,
   "id": "ff036636",
   "metadata": {},
   "outputs": [
    {
     "data": {
      "text/plain": [
       "Index(['dataset_split', 'id', 'repo_name', 'repo_url', 'repo_commit_sha',\n",
       "       'file_path', 'file_language', 'method_name', 'method_qualified_name',\n",
       "       'method_start_line', 'method_end_line', 'method_signature',\n",
       "       'method_original_code', 'method_doc_comment', 'code_tokens',\n",
       "       'metrics_cyclomatic_complexity', 'metrics_n_ast_nodes',\n",
       "       'metrics_ast_depth', 'metrics_n_identifiers', 'metrics_vocab_size',\n",
       "       'metrics_n_whitespaces', 'metrics_n_words', 'metrics_nloc',\n",
       "       'metrics_token_counts'],\n",
       "      dtype='object')"
      ]
     },
     "execution_count": 98,
     "metadata": {},
     "output_type": "execute_result"
    }
   ],
   "source": [
    "df.columns"
   ]
  },
  {
   "cell_type": "markdown",
   "id": "d483ae60",
   "metadata": {},
   "source": [
    "### Data Engineering"
   ]
  },
  {
   "cell_type": "code",
   "execution_count": 99,
   "id": "4240fd4a",
   "metadata": {},
   "outputs": [],
   "source": [
    "# Standardize repo names\n",
    "df['repo_name'] = df['repo_name'].str.strip().str.lower()\n",
    "\n",
    "\n",
    "# Standardize file path (forward slashes, no leading/trailing)\n",
    "df['file_path'] = df['file_path'].str.replace('\\\\', '/')\n",
    "df['file_path'] = df['file_path'].str.strip('/')"
   ]
  },
  {
   "cell_type": "markdown",
   "id": "bcf99287",
   "metadata": {},
   "source": [
    "#### Cleaning Method Name & Signature"
   ]
  },
  {
   "cell_type": "code",
   "execution_count": 100,
   "id": "e9d6a878",
   "metadata": {},
   "outputs": [],
   "source": [
    "# Remove methods with invalid names\n",
    "df = df[df['method_name'].str.strip() != '']\n",
    "df = df[~df['method_name'].str.contains(r'[^\\w_$]', regex=True, na=False)]\n",
    "df=df[df['method_name'].str.len()>1]\n",
    "\n",
    "# Remove excessive whitespace from method signatures\n",
    "df['method_signature'] = df['method_signature'].str.replace(r'\\s+', ' ', regex=True).str.strip()"
   ]
  },
  {
   "cell_type": "code",
   "execution_count": 101,
   "id": "9cec8b96",
   "metadata": {},
   "outputs": [
    {
     "data": {
      "text/plain": [
       "499910"
      ]
     },
     "execution_count": 101,
     "metadata": {},
     "output_type": "execute_result"
    }
   ],
   "source": [
    "len(df)"
   ]
  },
  {
   "cell_type": "markdown",
   "id": "431d5c10",
   "metadata": {},
   "source": [
    "#### Method Length & Line Number Filtering"
   ]
  },
  {
   "cell_type": "code",
   "execution_count": 102,
   "id": "8c58f10b",
   "metadata": {},
   "outputs": [],
   "source": [
    "# Validate line numbers\n",
    "df = df[(df['method_start_line'] > 0) & (df['method_end_line'] >= df['method_start_line'])]\n",
    "\n",
    "# Remove extremely short or long methods\n",
    "df = df[(df['metrics_nloc'] >= 3) & (df['metrics_nloc'] <= 100)]"
   ]
  },
  {
   "cell_type": "markdown",
   "id": "61539876",
   "metadata": {},
   "source": [
    "#### Removing Codes With Parsing Errors \n",
    "This also removes empty codes or codes with only comments"
   ]
  },
  {
   "cell_type": "code",
   "execution_count": 103,
   "id": "6099cc0e",
   "metadata": {},
   "outputs": [],
   "source": [
    "df=df[df[\"metrics_cyclomatic_complexity\"]>0]"
   ]
  },
  {
   "cell_type": "code",
   "execution_count": 104,
   "id": "5cb60815",
   "metadata": {},
   "outputs": [
    {
     "data": {
      "text/plain": [
       "480229"
      ]
     },
     "execution_count": 104,
     "metadata": {},
     "output_type": "execute_result"
    }
   ],
   "source": [
    "len(df)"
   ]
  },
  {
   "cell_type": "markdown",
   "id": "918bef85",
   "metadata": {},
   "source": [
    "#### Deduplication"
   ]
  },
  {
   "cell_type": "code",
   "execution_count": 105,
   "id": "2e8c392a",
   "metadata": {},
   "outputs": [],
   "source": [
    "duplicate_codes = df[df.duplicated(subset=[\"repo_name\", \"file_path\", \"method_signature\"], keep=False)]\n",
    "duplicate_codes= duplicate_codes.sort_values(by=[\"repo_name\", \"file_path\", \"method_signature\"])\n"
   ]
  },
  {
   "cell_type": "code",
   "execution_count": 106,
   "id": "008afa26",
   "metadata": {},
   "outputs": [
    {
     "data": {
      "text/plain": [
       "383868"
      ]
     },
     "execution_count": 106,
     "metadata": {},
     "output_type": "execute_result"
    }
   ],
   "source": [
    "len(duplicate_codes)"
   ]
  },
  {
   "cell_type": "code",
   "execution_count": 107,
   "id": "f7624158",
   "metadata": {},
   "outputs": [],
   "source": [
    "df = df.sort_values(by=[\"repo_commit_sha\"])\n",
    "df = df.drop_duplicates(subset=[\"repo_name\", \"file_path\", \"method_signature\"], keep=\"last\")"
   ]
  },
  {
   "cell_type": "code",
   "execution_count": 108,
   "id": "fb761076",
   "metadata": {},
   "outputs": [
    {
     "data": {
      "text/plain": [
       "185012"
      ]
     },
     "execution_count": 108,
     "metadata": {},
     "output_type": "execute_result"
    }
   ],
   "source": [
    "len(df)"
   ]
  },
  {
   "cell_type": "code",
   "execution_count": 109,
   "id": "d88ee566",
   "metadata": {},
   "outputs": [
    {
     "data": {
      "text/html": [
       "<div>\n",
       "<style scoped>\n",
       "    .dataframe tbody tr th:only-of-type {\n",
       "        vertical-align: middle;\n",
       "    }\n",
       "\n",
       "    .dataframe tbody tr th {\n",
       "        vertical-align: top;\n",
       "    }\n",
       "\n",
       "    .dataframe thead th {\n",
       "        text-align: right;\n",
       "    }\n",
       "</style>\n",
       "<table border=\"1\" class=\"dataframe\">\n",
       "  <thead>\n",
       "    <tr style=\"text-align: right;\">\n",
       "      <th></th>\n",
       "      <th>dataset_split</th>\n",
       "      <th>id</th>\n",
       "      <th>repo_name</th>\n",
       "      <th>repo_url</th>\n",
       "      <th>repo_commit_sha</th>\n",
       "      <th>file_path</th>\n",
       "      <th>file_language</th>\n",
       "      <th>method_name</th>\n",
       "      <th>method_qualified_name</th>\n",
       "      <th>method_start_line</th>\n",
       "      <th>...</th>\n",
       "      <th>code_tokens</th>\n",
       "      <th>metrics_cyclomatic_complexity</th>\n",
       "      <th>metrics_n_ast_nodes</th>\n",
       "      <th>metrics_ast_depth</th>\n",
       "      <th>metrics_n_identifiers</th>\n",
       "      <th>metrics_vocab_size</th>\n",
       "      <th>metrics_n_whitespaces</th>\n",
       "      <th>metrics_n_words</th>\n",
       "      <th>metrics_nloc</th>\n",
       "      <th>metrics_token_counts</th>\n",
       "    </tr>\n",
       "  </thead>\n",
       "  <tbody>\n",
       "    <tr>\n",
       "      <th>410697</th>\n",
       "      <td>train</td>\n",
       "      <td>spring-boot@009bd44:core/spring-boot/src/main/...</td>\n",
       "      <td>spring-boot</td>\n",
       "      <td>https://github.com/spring-projects/spring-boot</td>\n",
       "      <td>009bd441f6194a2e70c4d602b248279863ad4909</td>\n",
       "      <td>core/spring-boot/src/main/java/org/springframe...</td>\n",
       "      <td>Java</td>\n",
       "      <td>ifNotEmpty</td>\n",
       "      <td>org.springframework.boot.DefaultPropertiesProp...</td>\n",
       "      <td>72</td>\n",
       "      <td>...</td>\n",
       "      <td>[void, ifNotEmpty, public, static, (, ,, ), {,...</td>\n",
       "      <td>3</td>\n",
       "      <td>80</td>\n",
       "      <td>11</td>\n",
       "      <td>7</td>\n",
       "      <td>31</td>\n",
       "      <td>32</td>\n",
       "      <td>24</td>\n",
       "      <td>6</td>\n",
       "      <td>52</td>\n",
       "    </tr>\n",
       "    <tr>\n",
       "      <th>238208</th>\n",
       "      <td>train</td>\n",
       "      <td>elasticsearch@00d1041:x-pack/plugin/core/src/m...</td>\n",
       "      <td>elasticsearch</td>\n",
       "      <td>https://github.com/elastic/elasticsearch</td>\n",
       "      <td>00d104137379f6236648958fdd430fbea98351eb</td>\n",
       "      <td>x-pack/plugin/core/src/main/java/org/elasticse...</td>\n",
       "      <td>Java</td>\n",
       "      <td>loadVersionedResourceUTF8</td>\n",
       "      <td>org.elasticsearch.xpack.core.template.Resource...</td>\n",
       "      <td>17</td>\n",
       "      <td>...</td>\n",
       "      <td>[loadVersionedResourceUTF8, static, (, ,, ,, ,...</td>\n",
       "      <td>1</td>\n",
       "      <td>62</td>\n",
       "      <td>9</td>\n",
       "      <td>7</td>\n",
       "      <td>25</td>\n",
       "      <td>29</td>\n",
       "      <td>19</td>\n",
       "      <td>3</td>\n",
       "      <td>41</td>\n",
       "    </tr>\n",
       "    <tr>\n",
       "      <th>238209</th>\n",
       "      <td>train</td>\n",
       "      <td>elasticsearch@00d1041:x-pack/plugin/core/src/m...</td>\n",
       "      <td>elasticsearch</td>\n",
       "      <td>https://github.com/elastic/elasticsearch</td>\n",
       "      <td>00d104137379f6236648958fdd430fbea98351eb</td>\n",
       "      <td>x-pack/plugin/core/src/main/java/org/elasticse...</td>\n",
       "      <td>Java</td>\n",
       "      <td>loadVersionedResourceUTF8</td>\n",
       "      <td>org.elasticsearch.xpack.core.template.Resource...</td>\n",
       "      <td>21</td>\n",
       "      <td>...</td>\n",
       "      <td>[loadVersionedResourceUTF8, static, (, ,, ,, ,...</td>\n",
       "      <td>2</td>\n",
       "      <td>130</td>\n",
       "      <td>12</td>\n",
       "      <td>16</td>\n",
       "      <td>41</td>\n",
       "      <td>160</td>\n",
       "      <td>42</td>\n",
       "      <td>15</td>\n",
       "      <td>88</td>\n",
       "    </tr>\n",
       "    <tr>\n",
       "      <th>238210</th>\n",
       "      <td>train</td>\n",
       "      <td>elasticsearch@00d1041:x-pack/plugin/core/src/m...</td>\n",
       "      <td>elasticsearch</td>\n",
       "      <td>https://github.com/elastic/elasticsearch</td>\n",
       "      <td>00d104137379f6236648958fdd430fbea98351eb</td>\n",
       "      <td>x-pack/plugin/core/src/main/java/org/elasticse...</td>\n",
       "      <td>Java</td>\n",
       "      <td>loadResource</td>\n",
       "      <td>org.elasticsearch.xpack.core.template.Resource...</td>\n",
       "      <td>37</td>\n",
       "      <td>...</td>\n",
       "      <td>[String, loadResource, public, static, (, ,, )...</td>\n",
       "      <td>2</td>\n",
       "      <td>113</td>\n",
       "      <td>14</td>\n",
       "      <td>11</td>\n",
       "      <td>40</td>\n",
       "      <td>111</td>\n",
       "      <td>38</td>\n",
       "      <td>8</td>\n",
       "      <td>76</td>\n",
       "    </tr>\n",
       "    <tr>\n",
       "      <th>147072</th>\n",
       "      <td>train</td>\n",
       "      <td>elasticsearch@01dca55:server/src/main/java/org...</td>\n",
       "      <td>elasticsearch</td>\n",
       "      <td>https://github.com/elastic/elasticsearch</td>\n",
       "      <td>01dca5501c5e17b0d4c3d428fd2ad835478477a9</td>\n",
       "      <td>server/src/main/java/org/elasticsearch/action/...</td>\n",
       "      <td>Java</td>\n",
       "      <td>checkBlock</td>\n",
       "      <td>org.elasticsearch.action.admin.indices.setting...</td>\n",
       "      <td>68</td>\n",
       "      <td>...</td>\n",
       "      <td>[ClusterBlockException, checkBlock, protected,...</td>\n",
       "      <td>1</td>\n",
       "      <td>53</td>\n",
       "      <td>9</td>\n",
       "      <td>10</td>\n",
       "      <td>23</td>\n",
       "      <td>41</td>\n",
       "      <td>18</td>\n",
       "      <td>5</td>\n",
       "      <td>37</td>\n",
       "    </tr>\n",
       "  </tbody>\n",
       "</table>\n",
       "<p>5 rows × 24 columns</p>\n",
       "</div>"
      ],
      "text/plain": [
       "       dataset_split                                                 id  \\\n",
       "410697         train  spring-boot@009bd44:core/spring-boot/src/main/...   \n",
       "238208         train  elasticsearch@00d1041:x-pack/plugin/core/src/m...   \n",
       "238209         train  elasticsearch@00d1041:x-pack/plugin/core/src/m...   \n",
       "238210         train  elasticsearch@00d1041:x-pack/plugin/core/src/m...   \n",
       "147072         train  elasticsearch@01dca55:server/src/main/java/org...   \n",
       "\n",
       "            repo_name                                        repo_url  \\\n",
       "410697    spring-boot  https://github.com/spring-projects/spring-boot   \n",
       "238208  elasticsearch        https://github.com/elastic/elasticsearch   \n",
       "238209  elasticsearch        https://github.com/elastic/elasticsearch   \n",
       "238210  elasticsearch        https://github.com/elastic/elasticsearch   \n",
       "147072  elasticsearch        https://github.com/elastic/elasticsearch   \n",
       "\n",
       "                                 repo_commit_sha  \\\n",
       "410697  009bd441f6194a2e70c4d602b248279863ad4909   \n",
       "238208  00d104137379f6236648958fdd430fbea98351eb   \n",
       "238209  00d104137379f6236648958fdd430fbea98351eb   \n",
       "238210  00d104137379f6236648958fdd430fbea98351eb   \n",
       "147072  01dca5501c5e17b0d4c3d428fd2ad835478477a9   \n",
       "\n",
       "                                                file_path file_language  \\\n",
       "410697  core/spring-boot/src/main/java/org/springframe...          Java   \n",
       "238208  x-pack/plugin/core/src/main/java/org/elasticse...          Java   \n",
       "238209  x-pack/plugin/core/src/main/java/org/elasticse...          Java   \n",
       "238210  x-pack/plugin/core/src/main/java/org/elasticse...          Java   \n",
       "147072  server/src/main/java/org/elasticsearch/action/...          Java   \n",
       "\n",
       "                      method_name  \\\n",
       "410697                 ifNotEmpty   \n",
       "238208  loadVersionedResourceUTF8   \n",
       "238209  loadVersionedResourceUTF8   \n",
       "238210               loadResource   \n",
       "147072                 checkBlock   \n",
       "\n",
       "                                    method_qualified_name  method_start_line  \\\n",
       "410697  org.springframework.boot.DefaultPropertiesProp...                 72   \n",
       "238208  org.elasticsearch.xpack.core.template.Resource...                 17   \n",
       "238209  org.elasticsearch.xpack.core.template.Resource...                 21   \n",
       "238210  org.elasticsearch.xpack.core.template.Resource...                 37   \n",
       "147072  org.elasticsearch.action.admin.indices.setting...                 68   \n",
       "\n",
       "        ...                                        code_tokens  \\\n",
       "410697  ...  [void, ifNotEmpty, public, static, (, ,, ), {,...   \n",
       "238208  ...  [loadVersionedResourceUTF8, static, (, ,, ,, ,...   \n",
       "238209  ...  [loadVersionedResourceUTF8, static, (, ,, ,, ,...   \n",
       "238210  ...  [String, loadResource, public, static, (, ,, )...   \n",
       "147072  ...  [ClusterBlockException, checkBlock, protected,...   \n",
       "\n",
       "       metrics_cyclomatic_complexity metrics_n_ast_nodes metrics_ast_depth  \\\n",
       "410697                             3                  80                11   \n",
       "238208                             1                  62                 9   \n",
       "238209                             2                 130                12   \n",
       "238210                             2                 113                14   \n",
       "147072                             1                  53                 9   \n",
       "\n",
       "       metrics_n_identifiers  metrics_vocab_size  metrics_n_whitespaces  \\\n",
       "410697                     7                  31                     32   \n",
       "238208                     7                  25                     29   \n",
       "238209                    16                  41                    160   \n",
       "238210                    11                  40                    111   \n",
       "147072                    10                  23                     41   \n",
       "\n",
       "        metrics_n_words  metrics_nloc  metrics_token_counts  \n",
       "410697               24             6                    52  \n",
       "238208               19             3                    41  \n",
       "238209               42            15                    88  \n",
       "238210               38             8                    76  \n",
       "147072               18             5                    37  \n",
       "\n",
       "[5 rows x 24 columns]"
      ]
     },
     "execution_count": 109,
     "metadata": {},
     "output_type": "execute_result"
    }
   ],
   "source": [
    "df.head()"
   ]
  },
  {
   "cell_type": "markdown",
   "id": "0c458791",
   "metadata": {},
   "source": [
    "### Dataset Stratified Sampling"
   ]
  },
  {
   "cell_type": "code",
   "execution_count": 110,
   "id": "ef6438b0",
   "metadata": {},
   "outputs": [
    {
     "data": {
      "text/plain": [
       "6"
      ]
     },
     "execution_count": 110,
     "metadata": {},
     "output_type": "execute_result"
    }
   ],
   "source": [
    "df['repo_name'].nunique()"
   ]
  },
  {
   "cell_type": "code",
   "execution_count": 111,
   "id": "becf1b94",
   "metadata": {},
   "outputs": [],
   "source": [
    "def sample_from_large_repos(df, n_train=20000, n_test=5000, random_state=42):\n",
    "    \n",
    "    # Check distribution across repos\n",
    "    print(\"Repository distribution:\")\n",
    "    print(df['repo_name'].value_counts())\n",
    "    print()\n",
    "    \n",
    "    # Quality filtering\n",
    "    quality_df = df[\n",
    "        (df['metrics_cyclomatic_complexity'].between(2, 15)) &(df['metrics_n_ast_nodes'] > 10)].copy()\n",
    "    \n",
    "    print(f\"After quality filter: {len(quality_df):,} methods\")\n",
    "    \n",
    "    # Sample proportionally from each repo\n",
    "    sampled_dfs = []\n",
    "    \n",
    "    for repo in quality_df['repo_name'].unique():\n",
    "        repo_df = quality_df[quality_df['repo_name'] == repo]\n",
    "        \n",
    "        # Number of samples from this repo (proportional))\n",
    "        repo_fraction = len(repo_df) / len(quality_df)\n",
    "        n_samples_repo = int((n_train + n_test) * repo_fraction)\n",
    "        \n",
    "        # Sample from this repo\n",
    "        if n_samples_repo > 0 and len(repo_df) >= n_samples_repo:\n",
    "            repo_sample = repo_df.sample(n=n_samples_repo, random_state=random_state)\n",
    "            sampled_dfs.append(repo_sample)\n",
    "            print(f\"  {repo}: {n_samples_repo:,} methods sampled\")\n",
    "    \n",
    "    final_df = pd.concat(sampled_dfs, ignore_index=True)\n",
    "    \n",
    "    # Shuffle and split into train/test\n",
    "    final_df = final_df.sample(frac=1, random_state=random_state).reset_index(drop=True)\n",
    "    \n",
    "    # Split ensuring methods from all repos in both sets\n",
    "    train_df, test_df = train_test_split(final_df,test_size=n_test/(n_train + n_test),random_state=random_state,stratify=final_df['repo_name'])\n",
    "    \n",
    "    # splits\n",
    "    train_df['dataset_split'] = 'train'\n",
    "    test_df['dataset_split'] = 'test'\n",
    "    result_df = pd.concat([train_df, test_df], ignore_index=True)\n",
    "    \n",
    "    \n",
    "    print(f\"\\nFinal dataset:\")\n",
    "    print(f\"  Train: {len(train_df):,} methods\")\n",
    "    print(f\"  Test:  {len(test_df):,} methods\")\n",
    "    print(f\"\\nRepository representation in train/test:\")\n",
    "    for repo in result_df['repo_name'].unique():\n",
    "        train_count = len(train_df[train_df['repo_name'] == repo])\n",
    "        test_count = len(test_df[test_df['repo_name'] == repo])\n",
    "        print(f\"  {repo}: {train_count:,} train, {test_count:,} test\")\n",
    "    \n",
    "    return result_df"
   ]
  },
  {
   "cell_type": "code",
   "execution_count": 112,
   "id": "ccc9a0ae",
   "metadata": {},
   "outputs": [
    {
     "name": "stdout",
     "output_type": "stream",
     "text": [
      "Repository distribution:\n",
      "repo_name\n",
      "spring-boot             95401\n",
      "elasticsearch           85638\n",
      "java-design-patterns     3807\n",
      "hello-algo                103\n",
      "mall                       62\n",
      "advanced-java               1\n",
      "Name: count, dtype: int64\n",
      "\n",
      "After quality filter: 41,555 methods\n",
      "  spring-boot: 8,489 methods sampled\n",
      "  elasticsearch: 15,975 methods sampled\n",
      "  java-design-patterns: 479 methods sampled\n",
      "  mall: 23 methods sampled\n",
      "  hello-algo: 32 methods sampled\n",
      "\n",
      "Final dataset:\n",
      "  Train: 19,998 methods\n",
      "  Test:  5,000 methods\n",
      "\n",
      "Repository representation in train/test:\n",
      "  spring-boot: 6,791 train, 1,698 test\n",
      "  elasticsearch: 12,780 train, 3,195 test\n",
      "  java-design-patterns: 383 train, 96 test\n",
      "  hello-algo: 26 train, 6 test\n",
      "  mall: 18 train, 5 test\n"
     ]
    }
   ],
   "source": [
    "final_df = sample_from_large_repos(df, n_train=20000, n_test=5000)\n",
    "final_df.to_csv('java_methods_dataset.csv', index=False)"
   ]
  }
 ],
 "metadata": {
  "kernelspec": {
   "display_name": "Python 3",
   "language": "python",
   "name": "python3"
  },
  "language_info": {
   "codemirror_mode": {
    "name": "ipython",
    "version": 3
   },
   "file_extension": ".py",
   "mimetype": "text/x-python",
   "name": "python",
   "nbconvert_exporter": "python",
   "pygments_lexer": "ipython3",
   "version": "3.11.13"
  }
 },
 "nbformat": 4,
 "nbformat_minor": 5
}
