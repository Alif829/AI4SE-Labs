{
 "cells": [
  {
   "cell_type": "code",
   "execution_count": 74,
   "id": "de61529a",
   "metadata": {},
   "outputs": [
    {
     "name": "stdout",
     "output_type": "stream",
     "text": [
      "Requirement already satisfied: pandas in ./venv/lib/python3.13/site-packages (2.3.2)\n",
      "Requirement already satisfied: numpy>=1.26.0 in ./venv/lib/python3.13/site-packages (from pandas) (2.3.3)\n",
      "Requirement already satisfied: python-dateutil>=2.8.2 in ./venv/lib/python3.13/site-packages (from pandas) (2.9.0.post0)\n",
      "Requirement already satisfied: pytz>=2020.1 in ./venv/lib/python3.13/site-packages (from pandas) (2025.2)\n",
      "Requirement already satisfied: tzdata>=2022.7 in ./venv/lib/python3.13/site-packages (from pandas) (2025.2)\n",
      "Requirement already satisfied: six>=1.5 in ./venv/lib/python3.13/site-packages (from python-dateutil>=2.8.2->pandas) (1.17.0)\n",
      "Note: you may need to restart the kernel to use updated packages.\n"
     ]
    }
   ],
   "source": [
    "%pip install pandas"
   ]
  },
  {
   "cell_type": "code",
   "execution_count": 75,
   "id": "0ca701f3",
   "metadata": {},
   "outputs": [],
   "source": [
    "import pandas as pd"
   ]
  },
  {
   "cell_type": "code",
   "execution_count": 76,
   "id": "0f687bc7",
   "metadata": {},
   "outputs": [],
   "source": [
    "import glob\n",
    "\n",
    "ndjson_files = glob.glob(\"out_full/*.ndjson\")\n",
    "\n",
    "# Read and concatenate all ndjson files into a single dataframe\n",
    "df = pd.concat([pd.read_json(f, lines=True) for f in ndjson_files], ignore_index=True)"
   ]
  },
  {
   "cell_type": "code",
   "execution_count": 77,
   "id": "0db96721",
   "metadata": {},
   "outputs": [
    {
     "data": {
      "text/plain": [
       "71583"
      ]
     },
     "execution_count": 77,
     "metadata": {},
     "output_type": "execute_result"
    }
   ],
   "source": [
    "len(df)"
   ]
  },
  {
   "cell_type": "code",
   "execution_count": 78,
   "id": "f5ceb83d",
   "metadata": {},
   "outputs": [
    {
     "data": {
      "text/html": [
       "<div>\n",
       "<style scoped>\n",
       "    .dataframe tbody tr th:only-of-type {\n",
       "        vertical-align: middle;\n",
       "    }\n",
       "\n",
       "    .dataframe tbody tr th {\n",
       "        vertical-align: top;\n",
       "    }\n",
       "\n",
       "    .dataframe thead th {\n",
       "        text-align: right;\n",
       "    }\n",
       "</style>\n",
       "<table border=\"1\" class=\"dataframe\">\n",
       "  <thead>\n",
       "    <tr style=\"text-align: right;\">\n",
       "      <th></th>\n",
       "      <th>id</th>\n",
       "      <th>repo_full_name</th>\n",
       "      <th>repo_url</th>\n",
       "      <th>repo_head_sha</th>\n",
       "      <th>repo_stars</th>\n",
       "      <th>repo_forks</th>\n",
       "      <th>repo_license</th>\n",
       "      <th>repo_size_kb</th>\n",
       "      <th>repo_created_at</th>\n",
       "      <th>repo_pushed_at</th>\n",
       "      <th>...</th>\n",
       "      <th>n_identifiers</th>\n",
       "      <th>ast_max_depth</th>\n",
       "      <th>ast_error_count</th>\n",
       "      <th>ast_error_nodes</th>\n",
       "      <th>n_whitespaces</th>\n",
       "      <th>is_generated</th>\n",
       "      <th>is_test</th>\n",
       "      <th>dataset_split</th>\n",
       "      <th>provenance</th>\n",
       "      <th>commit_hash</th>\n",
       "    </tr>\n",
       "  </thead>\n",
       "  <tbody>\n",
       "    <tr>\n",
       "      <th>0</th>\n",
       "      <td>d6a1cd1372b4d66cb261d0ca95fa1ed6e28ec8f7</td>\n",
       "      <td>krahets/hello-algo</td>\n",
       "      <td>https://github.com/krahets/hello-algo</td>\n",
       "      <td>3709a97ca7b140c8a1db25c6f4738e3b4f703359</td>\n",
       "      <td>116814</td>\n",
       "      <td>14409</td>\n",
       "      <td>NOASSERTION</td>\n",
       "      <td>365567</td>\n",
       "      <td>2022-11-04 11:08:34+00:00</td>\n",
       "      <td>2025-09-10 20:28:12+00:00</td>\n",
       "      <td>...</td>\n",
       "      <td>12</td>\n",
       "      <td>8</td>\n",
       "      <td>0</td>\n",
       "      <td>[]</td>\n",
       "      <td>132</td>\n",
       "      <td>False</td>\n",
       "      <td>False</td>\n",
       "      <td>train</td>\n",
       "      <td>{'extraction_time': '2025-09-17T09:42:59.69409...</td>\n",
       "      <td>3709a97ca7b140c8a1db25c6f4738e3b4f703359</td>\n",
       "    </tr>\n",
       "    <tr>\n",
       "      <th>1</th>\n",
       "      <td>a91a8499d41e53d562e970cef0c8f0c4dcbf7d76</td>\n",
       "      <td>krahets/hello-algo</td>\n",
       "      <td>https://github.com/krahets/hello-algo</td>\n",
       "      <td>3709a97ca7b140c8a1db25c6f4738e3b4f703359</td>\n",
       "      <td>116814</td>\n",
       "      <td>14409</td>\n",
       "      <td>NOASSERTION</td>\n",
       "      <td>365567</td>\n",
       "      <td>2022-11-04 11:08:34+00:00</td>\n",
       "      <td>2025-09-10 20:28:12+00:00</td>\n",
       "      <td>...</td>\n",
       "      <td>13</td>\n",
       "      <td>8</td>\n",
       "      <td>0</td>\n",
       "      <td>[]</td>\n",
       "      <td>141</td>\n",
       "      <td>False</td>\n",
       "      <td>False</td>\n",
       "      <td>train</td>\n",
       "      <td>{'extraction_time': '2025-09-17T09:42:59.69563...</td>\n",
       "      <td>3709a97ca7b140c8a1db25c6f4738e3b4f703359</td>\n",
       "    </tr>\n",
       "    <tr>\n",
       "      <th>2</th>\n",
       "      <td>503aa99e3416632647212bfc5414ef435cd4dea0</td>\n",
       "      <td>krahets/hello-algo</td>\n",
       "      <td>https://github.com/krahets/hello-algo</td>\n",
       "      <td>3709a97ca7b140c8a1db25c6f4738e3b4f703359</td>\n",
       "      <td>116814</td>\n",
       "      <td>14409</td>\n",
       "      <td>NOASSERTION</td>\n",
       "      <td>365567</td>\n",
       "      <td>2022-11-04 11:08:34+00:00</td>\n",
       "      <td>2025-09-10 20:28:12+00:00</td>\n",
       "      <td>...</td>\n",
       "      <td>27</td>\n",
       "      <td>6</td>\n",
       "      <td>0</td>\n",
       "      <td>[]</td>\n",
       "      <td>155</td>\n",
       "      <td>False</td>\n",
       "      <td>False</td>\n",
       "      <td>train</td>\n",
       "      <td>{'extraction_time': '2025-09-17T09:42:59.69597...</td>\n",
       "      <td>3709a97ca7b140c8a1db25c6f4738e3b4f703359</td>\n",
       "    </tr>\n",
       "    <tr>\n",
       "      <th>3</th>\n",
       "      <td>7126b5da5e973c63a6e599e4a29a5250c684b1c4</td>\n",
       "      <td>krahets/hello-algo</td>\n",
       "      <td>https://github.com/krahets/hello-algo</td>\n",
       "      <td>3709a97ca7b140c8a1db25c6f4738e3b4f703359</td>\n",
       "      <td>116814</td>\n",
       "      <td>14409</td>\n",
       "      <td>NOASSERTION</td>\n",
       "      <td>365567</td>\n",
       "      <td>2022-11-04 11:08:34+00:00</td>\n",
       "      <td>2025-09-10 20:28:12+00:00</td>\n",
       "      <td>...</td>\n",
       "      <td>15</td>\n",
       "      <td>7</td>\n",
       "      <td>0</td>\n",
       "      <td>[]</td>\n",
       "      <td>121</td>\n",
       "      <td>False</td>\n",
       "      <td>False</td>\n",
       "      <td>train</td>\n",
       "      <td>{'extraction_time': '2025-09-17T09:42:59.69684...</td>\n",
       "      <td>3709a97ca7b140c8a1db25c6f4738e3b4f703359</td>\n",
       "    </tr>\n",
       "    <tr>\n",
       "      <th>4</th>\n",
       "      <td>b8dd9ce559321c5c371137fe181bb0d47682eb6c</td>\n",
       "      <td>krahets/hello-algo</td>\n",
       "      <td>https://github.com/krahets/hello-algo</td>\n",
       "      <td>3709a97ca7b140c8a1db25c6f4738e3b4f703359</td>\n",
       "      <td>116814</td>\n",
       "      <td>14409</td>\n",
       "      <td>NOASSERTION</td>\n",
       "      <td>365567</td>\n",
       "      <td>2022-11-04 11:08:34+00:00</td>\n",
       "      <td>2025-09-10 20:28:12+00:00</td>\n",
       "      <td>...</td>\n",
       "      <td>15</td>\n",
       "      <td>7</td>\n",
       "      <td>0</td>\n",
       "      <td>[]</td>\n",
       "      <td>161</td>\n",
       "      <td>False</td>\n",
       "      <td>False</td>\n",
       "      <td>train</td>\n",
       "      <td>{'extraction_time': '2025-09-17T09:42:59.69713...</td>\n",
       "      <td>3709a97ca7b140c8a1db25c6f4738e3b4f703359</td>\n",
       "    </tr>\n",
       "  </tbody>\n",
       "</table>\n",
       "<p>5 rows × 36 columns</p>\n",
       "</div>"
      ],
      "text/plain": [
       "                                         id      repo_full_name  \\\n",
       "0  d6a1cd1372b4d66cb261d0ca95fa1ed6e28ec8f7  krahets/hello-algo   \n",
       "1  a91a8499d41e53d562e970cef0c8f0c4dcbf7d76  krahets/hello-algo   \n",
       "2  503aa99e3416632647212bfc5414ef435cd4dea0  krahets/hello-algo   \n",
       "3  7126b5da5e973c63a6e599e4a29a5250c684b1c4  krahets/hello-algo   \n",
       "4  b8dd9ce559321c5c371137fe181bb0d47682eb6c  krahets/hello-algo   \n",
       "\n",
       "                                repo_url  \\\n",
       "0  https://github.com/krahets/hello-algo   \n",
       "1  https://github.com/krahets/hello-algo   \n",
       "2  https://github.com/krahets/hello-algo   \n",
       "3  https://github.com/krahets/hello-algo   \n",
       "4  https://github.com/krahets/hello-algo   \n",
       "\n",
       "                              repo_head_sha  repo_stars  repo_forks  \\\n",
       "0  3709a97ca7b140c8a1db25c6f4738e3b4f703359      116814       14409   \n",
       "1  3709a97ca7b140c8a1db25c6f4738e3b4f703359      116814       14409   \n",
       "2  3709a97ca7b140c8a1db25c6f4738e3b4f703359      116814       14409   \n",
       "3  3709a97ca7b140c8a1db25c6f4738e3b4f703359      116814       14409   \n",
       "4  3709a97ca7b140c8a1db25c6f4738e3b4f703359      116814       14409   \n",
       "\n",
       "  repo_license  repo_size_kb           repo_created_at  \\\n",
       "0  NOASSERTION        365567 2022-11-04 11:08:34+00:00   \n",
       "1  NOASSERTION        365567 2022-11-04 11:08:34+00:00   \n",
       "2  NOASSERTION        365567 2022-11-04 11:08:34+00:00   \n",
       "3  NOASSERTION        365567 2022-11-04 11:08:34+00:00   \n",
       "4  NOASSERTION        365567 2022-11-04 11:08:34+00:00   \n",
       "\n",
       "             repo_pushed_at  ...  n_identifiers  ast_max_depth  \\\n",
       "0 2025-09-10 20:28:12+00:00  ...             12              8   \n",
       "1 2025-09-10 20:28:12+00:00  ...             13              8   \n",
       "2 2025-09-10 20:28:12+00:00  ...             27              6   \n",
       "3 2025-09-10 20:28:12+00:00  ...             15              7   \n",
       "4 2025-09-10 20:28:12+00:00  ...             15              7   \n",
       "\n",
       "  ast_error_count  ast_error_nodes n_whitespaces  is_generated  is_test  \\\n",
       "0               0               []           132         False    False   \n",
       "1               0               []           141         False    False   \n",
       "2               0               []           155         False    False   \n",
       "3               0               []           121         False    False   \n",
       "4               0               []           161         False    False   \n",
       "\n",
       "   dataset_split                                         provenance  \\\n",
       "0          train  {'extraction_time': '2025-09-17T09:42:59.69409...   \n",
       "1          train  {'extraction_time': '2025-09-17T09:42:59.69563...   \n",
       "2          train  {'extraction_time': '2025-09-17T09:42:59.69597...   \n",
       "3          train  {'extraction_time': '2025-09-17T09:42:59.69684...   \n",
       "4          train  {'extraction_time': '2025-09-17T09:42:59.69713...   \n",
       "\n",
       "                                commit_hash  \n",
       "0  3709a97ca7b140c8a1db25c6f4738e3b4f703359  \n",
       "1  3709a97ca7b140c8a1db25c6f4738e3b4f703359  \n",
       "2  3709a97ca7b140c8a1db25c6f4738e3b4f703359  \n",
       "3  3709a97ca7b140c8a1db25c6f4738e3b4f703359  \n",
       "4  3709a97ca7b140c8a1db25c6f4738e3b4f703359  \n",
       "\n",
       "[5 rows x 36 columns]"
      ]
     },
     "execution_count": 78,
     "metadata": {},
     "output_type": "execute_result"
    }
   ],
   "source": [
    "df.head()"
   ]
  },
  {
   "cell_type": "code",
   "execution_count": 79,
   "id": "32b438ae",
   "metadata": {},
   "outputs": [
    {
     "data": {
      "text/plain": [
       "Index(['id', 'repo_full_name', 'repo_url', 'repo_head_sha', 'repo_stars',\n",
       "       'repo_forks', 'repo_license', 'repo_size_kb', 'repo_created_at',\n",
       "       'repo_pushed_at', 'repo_contributor_count', 'repo_commit_freq_30d',\n",
       "       'file_path', 'file_blob_sha', 'method_name', 'signature', 'start_line',\n",
       "       'end_line', 'nloc', 'method_source_normalized', 'original_code',\n",
       "       'code_tokens', 'token_count', 'vocab_size', 'cyclomatic_complexity',\n",
       "       'ast_node_count', 'n_identifiers', 'ast_max_depth', 'ast_error_count',\n",
       "       'ast_error_nodes', 'n_whitespaces', 'is_generated', 'is_test',\n",
       "       'dataset_split', 'provenance', 'commit_hash'],\n",
       "      dtype='object')"
      ]
     },
     "execution_count": 79,
     "metadata": {},
     "output_type": "execute_result"
    }
   ],
   "source": [
    "df.columns"
   ]
  },
  {
   "cell_type": "code",
   "execution_count": 80,
   "id": "ebc9b55d",
   "metadata": {},
   "outputs": [],
   "source": [
    "df.drop(columns=['id', 'repo_full_name','repo_head_sha', 'repo_stars','repo_forks', 'file_blob_sha','is_generated', 'is_test', 'dataset_split', 'provenance', 'repo_size_kb', 'repo_created_at',\n",
    "       'repo_pushed_at', 'repo_contributor_count', 'repo_commit_freq_30d','method_source_normalized','signature'], inplace=True)"
   ]
  },
  {
   "cell_type": "code",
   "execution_count": 81,
   "id": "49f621aa",
   "metadata": {},
   "outputs": [
    {
     "data": {
      "text/plain": [
       "19"
      ]
     },
     "execution_count": 81,
     "metadata": {},
     "output_type": "execute_result"
    }
   ],
   "source": [
    "len(df.columns)"
   ]
  },
  {
   "cell_type": "code",
   "execution_count": 82,
   "id": "dee0a9e3",
   "metadata": {},
   "outputs": [
    {
     "data": {
      "text/plain": [
       "Index(['repo_url', 'repo_license', 'file_path', 'method_name', 'start_line',\n",
       "       'end_line', 'nloc', 'original_code', 'code_tokens', 'token_count',\n",
       "       'vocab_size', 'cyclomatic_complexity', 'ast_node_count',\n",
       "       'n_identifiers', 'ast_max_depth', 'ast_error_count', 'ast_error_nodes',\n",
       "       'n_whitespaces', 'commit_hash'],\n",
       "      dtype='object')"
      ]
     },
     "execution_count": 82,
     "metadata": {},
     "output_type": "execute_result"
    }
   ],
   "source": [
    "df.columns"
   ]
  },
  {
   "cell_type": "markdown",
   "id": "5427030c",
   "metadata": {},
   "source": [
    "## License Types"
   ]
  },
  {
   "cell_type": "code",
   "execution_count": 88,
   "id": "21bb850c",
   "metadata": {},
   "outputs": [
    {
     "data": {
      "text/plain": [
       "array(['Apache-2.0'], dtype=object)"
      ]
     },
     "execution_count": 88,
     "metadata": {},
     "output_type": "execute_result"
    }
   ],
   "source": [
    "df['repo_license'].unique()"
   ]
  },
  {
   "cell_type": "code",
   "execution_count": 87,
   "id": "d21a169b",
   "metadata": {},
   "outputs": [],
   "source": [
    "df = df[df['repo_license'] != 'NOASSERTION']"
   ]
  },
  {
   "cell_type": "code",
   "execution_count": 86,
   "id": "3a9f7609",
   "metadata": {},
   "outputs": [
    {
     "data": {
      "text/plain": [
       "5915"
      ]
     },
     "execution_count": 86,
     "metadata": {},
     "output_type": "execute_result"
    }
   ],
   "source": [
    "len(df[df['repo_license']=='NOASSERTION'])"
   ]
  },
  {
   "cell_type": "markdown",
   "id": "cf80a650",
   "metadata": {},
   "source": [
    "## Applying Checklists"
   ]
  },
  {
   "cell_type": "code",
   "execution_count": 92,
   "id": "e9aab7c8",
   "metadata": {},
   "outputs": [
    {
     "data": {
      "text/plain": [
       "0"
      ]
     },
     "execution_count": 92,
     "metadata": {},
     "output_type": "execute_result"
    }
   ],
   "source": [
    "len(df[(df['nloc'] <= 3) & (df['nloc'] >= 100)])"
   ]
  },
  {
   "cell_type": "markdown",
   "id": "1ef31581",
   "metadata": {},
   "source": [
    "### Trimming too long or short methods"
   ]
  },
  {
   "cell_type": "code",
   "execution_count": 93,
   "id": "0f8ec210",
   "metadata": {},
   "outputs": [],
   "source": [
    "df = df[(df['nloc'] >= 3) & (df['nloc'] <= 100)]"
   ]
  },
  {
   "cell_type": "code",
   "execution_count": 94,
   "id": "efcfae84",
   "metadata": {},
   "outputs": [
    {
     "data": {
      "text/html": [
       "<div>\n",
       "<style scoped>\n",
       "    .dataframe tbody tr th:only-of-type {\n",
       "        vertical-align: middle;\n",
       "    }\n",
       "\n",
       "    .dataframe tbody tr th {\n",
       "        vertical-align: top;\n",
       "    }\n",
       "\n",
       "    .dataframe thead th {\n",
       "        text-align: right;\n",
       "    }\n",
       "</style>\n",
       "<table border=\"1\" class=\"dataframe\">\n",
       "  <thead>\n",
       "    <tr style=\"text-align: right;\">\n",
       "      <th></th>\n",
       "      <th>repo_url</th>\n",
       "      <th>repo_license</th>\n",
       "      <th>file_path</th>\n",
       "      <th>method_name</th>\n",
       "      <th>start_line</th>\n",
       "      <th>end_line</th>\n",
       "      <th>nloc</th>\n",
       "      <th>original_code</th>\n",
       "      <th>code_tokens</th>\n",
       "      <th>token_count</th>\n",
       "      <th>vocab_size</th>\n",
       "      <th>cyclomatic_complexity</th>\n",
       "      <th>ast_node_count</th>\n",
       "      <th>n_identifiers</th>\n",
       "      <th>ast_max_depth</th>\n",
       "      <th>ast_error_count</th>\n",
       "      <th>ast_error_nodes</th>\n",
       "      <th>n_whitespaces</th>\n",
       "      <th>commit_hash</th>\n",
       "    </tr>\n",
       "  </thead>\n",
       "  <tbody>\n",
       "  </tbody>\n",
       "</table>\n",
       "</div>"
      ],
      "text/plain": [
       "Empty DataFrame\n",
       "Columns: [repo_url, repo_license, file_path, method_name, start_line, end_line, nloc, original_code, code_tokens, token_count, vocab_size, cyclomatic_complexity, ast_node_count, n_identifiers, ast_max_depth, ast_error_count, ast_error_nodes, n_whitespaces, commit_hash]\n",
       "Index: []"
      ]
     },
     "execution_count": 94,
     "metadata": {},
     "output_type": "execute_result"
    }
   ],
   "source": [
    "df[df['token_count'] == 0]"
   ]
  },
  {
   "cell_type": "markdown",
   "id": "c5f53827",
   "metadata": {},
   "source": [
    "### Trimming methods with only comments"
   ]
  },
  {
   "cell_type": "code",
   "execution_count": 97,
   "id": "7d1543ff",
   "metadata": {},
   "outputs": [],
   "source": [
    "df = df[df['token_count'] > 0]"
   ]
  },
  {
   "cell_type": "markdown",
   "id": "c5aac3c1",
   "metadata": {},
   "source": [
    "### Methods with ast errors"
   ]
  },
  {
   "cell_type": "code",
   "execution_count": 102,
   "id": "e72ffa5a",
   "metadata": {},
   "outputs": [
    {
     "data": {
      "text/plain": [
       "array([ 0,  1,  4,  2,  5,  6, 34,  3, 20, 11,  8,  9, 13, 14, 12, 15, 16,\n",
       "        7, 27, 17, 23, 28, 31, 22, 19])"
      ]
     },
     "execution_count": 102,
     "metadata": {},
     "output_type": "execute_result"
    }
   ],
   "source": [
    "df['ast_error_count'].unique()"
   ]
  },
  {
   "cell_type": "code",
   "execution_count": 107,
   "id": "894eade7",
   "metadata": {},
   "outputs": [
    {
     "data": {
      "text/plain": [
       "550"
      ]
     },
     "execution_count": 107,
     "metadata": {},
     "output_type": "execute_result"
    }
   ],
   "source": [
    "len(df[df['ast_error_count'] > 0])"
   ]
  },
  {
   "cell_type": "code",
   "execution_count": 106,
   "id": "3afe7e8b",
   "metadata": {},
   "outputs": [
    {
     "data": {
      "text/plain": [
       "array([(), ('startable',), ('containerConnectionDetailsFactory',),\n",
       "       ('listableBeanFactory',), ('testcontainerBeanDefinition',),\n",
       "       ('ResourceLoaderAware', 'EnvironmentAware', 'BeanFactoryAware', 'BeanClassLoaderAware'),\n",
       "       ('abstractBeanDefinition',), ('postProcessor',), ('registry',),\n",
       "       ('other',), ('Object @Nullable ... items', '..'),\n",
       "       (', Object @Nullable ... items', '..'),\n",
       "       ('methodMetadata', 'annotationMetadata'), ('classMetadata',),\n",
       "       ('springBootCondition',), ('configurationCondition',),\n",
       "       ('applicationContext',),\n",
       "       ('listableBeanFactory', 'hierarchicalBeanFactory'),\n",
       "       ('singletonBeanRegistry', 'configurableListableBeanFactory'),\n",
       "       ('clbf',), ('string', 'String[]'),\n",
       "       ('applicationFailedEvent', 'contextRefreshedEvent'),\n",
       "       ('annotatedBeanDefinition',), ('configurableListableBeanFactory',),\n",
       "       ('\"\"\";', '\";', ': 1', '\"\"\"', '\"'),\n",
       "       ('{ \"value\": 2 }]\\n\\t\\t\\t\\t\"\"\";\\n\\t\\tList<TestResponse>', '\";', '\"\\n\\t\\t\\t\\t[{ \"value\": 1 }', '{ \"value\":', '\"'),\n",
       "       ('\"\"\";', '\";', '\"Value\": 2', ': 1', '\"\"\"', '\"'),\n",
       "       ('\"\"\";', '\";', ': 42', '\"\"\"', '\"'), ('typeElement',),\n",
       "       ('typeElement', 'declaredType'), ('declaredType',),\n",
       "       ('abstractContext', 'beanDefinitionRegistry'), ('annotation',),\n",
       "       ('webApplicationContext',), ('context',), ('configurableContext',),\n",
       "       ('printStreamCapture',),\n",
       "       ('resource', 'inputStream', 'file', 'bytes'),\n",
       "       ('runtimeException',), ('closeable',),\n",
       "       ('listableBeanFactory', 'autowireCapableBeanFactory'),\n",
       "       (', Object @Nullable ... params', '..'), ('file', 'bytes'),\n",
       "       ('secureConnection',), ('jdk',), ('decorator',),\n",
       "       ('.withPropertyValues(\"spring.cache.type=jcache\", \"spring.cache.jcache.provider=\" + cachingProviderFqn,\\n\\t\\t\\t\\t\\t\\t\"spring.cache.jcache.config=\" + configLocation)\\n\\t\\t\\t\\t.run((context) -> {\\n\\t\\t\\t\\t\\tJCacheCacheManager cacheManager = getCacheManager(context, JCacheCacheManager.class);\\n\\t\\t\\t\\t\\tResource configResource = new ClassPathResource(configLocation);\\n\\t\\t\\t\\t\\tassertThat(cacheManager.getCacheManager().getURI()).isEqualTo(configResource.getURI());\\n\\t\\t\\t\\t\\tassertThat(Hazelcast.getAllHazelcastInstances()).hasSize(1);\\n\\t\\t\\t\\t});\\n\\t\\t}\\n\\t\\tfinally {\\n\\t\\t\\tCaching.getCachingProvider(cachingProviderFqn).close();\\n\\t\\t}\\n\\t}\\n\\n\\t@Test\\n\\t@WithHazelcastXmlResource', '(1);\\n\\t\\t\\t\\t});\\n\\t\\t}\\n\\t\\tfinally {\\n\\t\\t\\tCaching.getCachingProvider(', '())', '(cacheManager.getCacheManager().getURI()).isEqualTo(configResource.getURI', '())', '()', ');\\n\\t\\t\\t\\t\\tResource configResource = new ClassPathResource(', ') -> {\\n\\t\\t\\t\\t\\tJCacheCacheManager cacheManager = getCacheManager(', '(', ',\\n\\t\\t\\t\\t\\t\\t\"spring.cache.jcache.config=\" +', '\"spring.cache.type=jcache\", \"spring.cache.jcache.provider=\" +', ';\\n\\t\\ttry {\\n\\t\\t\\tString configLocation = \"hazelcast-specific.xml\";\\n\\t\\t\\tthis.contextRunner.withUserConfiguration(DefaultCacheConfiguration.class', 'multicast enabled=\"false\"/>\\n\\t\\t\\t\\t\\t</join>\\n\\t\\t\\t\\t</network>\\n\\n\\t\\t\\t</hazelcast>\\n\\t\\t\\t\"\"\")\\n\\tvoid hazelcastAsJCacheWithConfig() {\\n\\t\\tString', '\")', '</', '</', '/>\\n\\t\\t\\t\\t\\t<', '/>', 'detection', '<', '<', '<', '</', '<', '<', '<', '<', 'map', '/>', '<queue', '\"http://www.hazelcast.com/schema/config hazelcast-config-5.0.xsd\"\\n\\t\\t\\t\\t\\t   xmlns=\"http://www.hazelcast.com/schema/config\"\\n\\t\\t\\t\\t\\t   xmlns:', 'hazelcast xsi:', '\"', '\"'),\n",
       "       ('cacheManager',), ('clusterConnection',),\n",
       "       ('jedisConnectionFactory',), ('sslFactory',),\n",
       "       ('allowedListDeserializingMessageConverter',),\n",
       "       ('connectionFactory',), ('Class<?>', 'string', 'endpointId'),\n",
       "       ('string', 'endpointId'), ('string',), ('rootHandler',),\n",
       "       ('templatedUriEntity',), ('reactorResourceFactory',),\n",
       "       ('webServerFactory',), ('urlClassLoader',), ('jarURLConnection',),\n",
       "       ('webServerApplicationContext',), ('response',),\n",
       "       ('delayedHandler',), ('handlerWrapper', 'statisticsHandler'),\n",
       "       ('networkConnector',), ('contextHandler', 'handlerWrapper'),\n",
       "       ('servletContextHandler',), ('jettyConnectionFactory',),\n",
       "       ('jettyWebServer', 'webServerApplicationContext'),\n",
       "       ('handlerCollection', 'handlerWrapper', 'jettyEmbeddedWebAppContext'),\n",
       "       ('handler',), ('collection', 'wrapper'),\n",
       "       ('handlerCollection', 'handlerWrapper', 'servletContextHandler'),\n",
       "       ('customRequestLog',), ('requestLogWriter',), ('serverConnector',),\n",
       "       ('wrapper', 'webAppContext'), ('ioException',),\n",
       "       ('contextAwareTarget',), ('initializingBean',),\n",
       "       ('disposableBean',), ('validator',),\n",
       "       ('adapter', 'jakartaValidator'), ('filterChainProxy',),\n",
       "       ('cachingConnectionFactory',), ('jmsPoolConnectionFactory',),\n",
       "       ('periodicTrigger', 'cronTrigger'),\n",
       "       ('logoutSuccessEvent', 'successEvent', 'failureEvent'),\n",
       "       ('authorizationDeniedEvent',), ('configurableEnvironment',),\n",
       "       ('compositePropertySource',), ('Info',),\n",
       "       (',\\n\\t\\t\\tOperationArgumentResolver @Nullable ... argumentResolvers', '..'),\n",
       "       ('configurableParent',),\n",
       "       ('pathMappedEndpoint', 'exposableWebEndpoint'),\n",
       "       ('httpRequest\\n\\t\\t\\t\\t\\t&& response instanceof HttpServletResponse httpResponse)',),\n",
       "       ('pathMappedEndpoint',), ('beanPropertyWriter',),\n",
       "       ('string', 'string'), ('meterObservationHandler',),\n",
       "       ('contextClosedEvent', 'contextRefreshedEvent'), ('field',),\n",
       "       ('compositePropagationFactory',), ('compositePropagator',),\n",
       "       ('provider',),\n",
       "       ('defaultResourceLoader', 'genericApplicationContext'),\n",
       "       ('abstractApplicationContext', 'registry'),\n",
       "       ('orderComparator', 'defaultListableBeanFactory'),\n",
       "       ('runtimeException', 'abandonedRunException'), ('generator',),\n",
       "       ('closable',), ('sequence', 'pack', 'resource', 'type'),\n",
       "       ('resolver',), ('classPathResource',), ('Class<?>',),\n",
       "       ('readyEvent', 'preparedEvent', 'environmentPreparedEvent'),\n",
       "       ('annotatedDefinition',),\n",
       "       (',\\n\\t\\t\\t@Nullable Object @Nullable ... additionalArguments', '..'),\n",
       "       ('readyEvent',), ('collection', 'map'), ('originTrackedValue',),\n",
       "       ('charSequence',), ('mappingNode', 'sequenceNode'),\n",
       "       ('scalarNode',), ('environmentPreparedEvent',),\n",
       "       ('x509Certificate',), ('file',),\n",
       "       ('map', 'iterable', 'writableJson'),\n",
       "       ('}', 'new @Nullable Object[] {'), ('enumerablePropertySource',),\n",
       "       ('collection',), ('Enum<?>',), ('writableResource',),\n",
       "       ('classPathResource', 'originTrackedResource'),\n",
       "       ('throwable', 'originProvider', 'origin'),\n",
       "       ('configurableApplicationContext',), ('parent',), ('deferredLog',),\n",
       "       ('resource',), ('applicationConversionService',),\n",
       "       ('conversionService',),\n",
       "       ('configurableListableBeanFactory', 'applicationContext'),\n",
       "       ('Parser<?>', 'Printer<?>', 'Formatter<?>', 'converterBean', 'converterBean', 'converterBean'),\n",
       "       ('conditionalConverter',), ('abstractConfiguration',),\n",
       "       ('multiFormatMessage',), ('stringBuilder',), ('componentModel',),\n",
       "       ('dataSize',), ('contextAware',), ('autowireCapableBeanFactory',),\n",
       "       ('unsatisfiedDependencyException',), ('beanCreationException',),\n",
       "       ('propertySourceOrigin',), ('fieldError',),\n",
       "       ('registrationBean', 'registrationBean', 'filterRegistrationBean', 'servletRegistrationBean'),\n",
       "       ('errorPageRegistry',), ('configurableWebEnvironment',),\n",
       "       ('servletException',),\n",
       "       ('servletException', 'ioException', 'error', 'runtimeException'),\n",
       "       ('inactiveException',), ('map', 'list'),\n",
       "       ('locations', 'List<?>', 'location'), ('location',),\n",
       "       ('notFoundException',),\n",
       "       ('resourceNotFoundException', 'locationNotFoundException'),\n",
       "       ('originLookup',), ('rootBeanDefinition',),\n",
       "       ('abstractApplicationContext',),\n",
       "       ('contextClosedEvent', 'preparedEvent', 'environmentPreparedEvent', 'startingEvent'),\n",
       "       ('PropertySource<?>',), ('map',), ('propertySource',),\n",
       "       ('cachingSource',), ('springSource',), ('mapSource',),\n",
       "       ('filteredSource', 'springPropertySource'),\n",
       "       ('invocationTargetException',),\n",
       "       ('iterableSource', 'iterableSource'), ('bindException',),\n",
       "       ('DefaultValue',), ('iterableSource',),\n",
       "       ('Annotation @Nullable ... annotations', '..'),\n",
       "       ('int @Nullable ... elements', '..'), ('availabilityChangeEvent',),\n",
       "       ('beanDefinitionRegistry',), ('origin',), ('webDriver',),\n",
       "       ('webDriverScope', 'configurableContext'), ('dataSource',),\n",
       "       (';', 'name = \"db/changelog/db.changelog-override.xml\",\\n\\t\\t\\tcontent = \"\"\"\\n\\t\\t\\t\\t\\t<?xml version=\"1.0\" encoding=\"UTF-8\"?>\\n\\t\\t\\t\\t\\t<databaseChangeLog\\n\\t\\t\\t\\t\\t        xmlns=\"http://www.liquibase.org/xml/ns/dbchangelog\"\\n\\t\\t\\t\\t\\t        xmlns:xsi=\"http://www.w3.org/2001/XMLSchema-instance\"\\n\\t\\t\\t\\t\\t        xmlns:ext=\"http://www.liquibase.org/xml/ns/dbchangelog-ext\"\\n\\t\\t\\t\\t\\t        xsi:schemaLocation=\"http://www.liquibase.org/xml/ns/dbchangelog http://www.liquibase.org/xml/ns/dbchangelog/dbchangelog-3.8.xsd\\n\\t\\t\\t\\t\\t        http://www.liquibase.org/xml/ns/dbchangelog-ext http://www.liquibase.org/xml/ns/dbchangelog/dbchangelog-ext.xsd\">\\n\\n\\t\\t\\t\\t\\t</databaseChangeLog>\\n\\t\\t\\t\\t\\t\"\"\")\\n\\tvoid changelogXml() {\\n\\t\\tthis.contextRunner.withUserConfiguration(EmbeddedDataSourceConfiguration.class)\\n\\t\\t\\t.withPropertyValues(\"spring.liquibase.change-log:classpath:/db/changelog/db.changelog-override.xml\")\\n\\t\\t\\t.run(assertLiquibase((liquibase) -> assertThat(liquibase.getChangeLog())\\n\\t\\t\\t\\t.isEqualTo(\"classpath:/db/changelog/db.changelog-override.xml\")));\\n\\t}\\n\\n\\t@Test\\n\\t@WithResource(name = \"db/changelog/db.changelog-override.json\", content = \"\"\"\\n\\t\\t\\t{\\n\\t\\t\\t    \"databaseChangeLog\": []\\n\\t\\t\\t}\\n\\t\\t\\t\"\"\")\\n\\tvoid changelogJson()', '\")', ': []', '\"\"\"', '\"', ';\\n\\t}\\n\\n\\t@Test\\n\\t@WithResource(name = \"db/changelog/db.changelog-override.json\"', '\"\"\")\\n\\tvoid changelogXml() {', '\")', '<', ':', '\"http://www.liquibase.org/xml/ns/dbchangelog http://www.liquibase.org/xml/ns/dbchangelog/dbchangelog-3.8.xsd', '\"http://www.liquibase.org/xml/ns/dbchangelog http://www.liquibase.org/xml/ns/dbchangelog/dbchangelog-3.8.xsd', '\"http://www.liquibase.org/xml/ns/dbchangelog\"\\n\\t\\t\\t\\t\\t        xmlns:xsi=\"http://www.w3.org/2001/XMLSchema-instance\"\\n\\t\\t\\t\\t\\t        xmlns:ext=\"http://www.liquibase.org/xml/ns/dbchangelog-ext\"\\n\\t\\t\\t\\t\\t        xsi:', 'databaseChangeLog', '?>', '\"1.0\"', '?xml', '\"', '\"'),\n",
       "       ('String',), ('nativeException',), ('allEncompassingConverter',),\n",
       "       ('jsonConverter',), ('String @Nullable ... packagesToScan', '..'),\n",
       "       ('String @Nullable ... mappingResources', '..'),\n",
       "       ('abstractHttp11Protocol',), ('abstractProtocol',), ('executor',),\n",
       "       ('embeddedContext',), ('webServerException', 'embeddedContext'),\n",
       "       ('wrapper',), ('standardContext',),\n",
       "       ('tomcatWebServer', 'webServerApplicationContext'),\n",
       "       ('standardManager',), ('protocol', 'protocol'),\n",
       "       ('accessLogValve',), ('socketException',), ('errorReportValve',),\n",
       "       ('runtimeException', 'ioException'), ('array',),\n",
       "       ('executableElement', 'typeElement'), ('type', 'type'),\n",
       "       ('TypeVariable',), ('typeVariable',),\n",
       "       ('\"\"\";', '\";', '\"\"\"\\n\\t\\t\\t\\t@org.springframework.boot.configurationsample.ConfigurationProperties(\"implicit\")\\n\\t\\t\\t\\tpublic record ExampleRecord(String someString, Integer someInteger)', 'public record', '\"'),\n",
       "       ('\"\"\";', '\";', '\"\"\"\\n\\t\\t\\t\\t@org.springframework.boot.configurationsample.ConfigurationProperties(\"record.defaults\")\\n\\t\\t\\t\\tpublic record ExampleRecord(\\n\\t\\t\\t\\t\\t@org.springframework.boot.configurationsample.DefaultValue(\"An1s9n\") String someString,\\n\\t\\t\\t\\t\\t@org.springframework.boot.configurationsample.DefaultValue(\"594\") Integer someInteger)', 'public record', '\"'),\n",
       "       ('\"\"\";', '\";', ');', 'this(', '@org.springframework.boot.configurationsample.ConstructorBinding\\n\\t\\t\\t\\t\\tpublic ExampleRecord(String someString) {\\n\\t\\t\\t\\t\\t\\tthis(someString, 42);\\n\\t\\t\\t\\t\\t}\\n\\t\\t\\t\\t\\tpublic ExampleRecord(Integer someInteger)', 'Integer', ');', 'this(', '\"\"\"\\n\\t\\t\\t\\t@org.springframework.boot.configurationsample.ConfigurationProperties(\"multi\")\\n\\t\\t\\t\\tpublic record ExampleRecord(String someString, Integer someInteger)', 'public record', '\"'),\n",
       "       ('\"\"\";', '\";', ']', '\"name\":', '\"properties\": [', '\"ignored\":', '\"\"\"', '\"'),\n",
       "       ('\"\"\";', '\";', ']', '\"description\":', '\"type\":', '\"name\":', '\"properties\": [', '\"\"\"', '\"'),\n",
       "       ('\"\"\";', '\";', ']', ']', '\"description\":', '\"value\":', '\"description\":', ': \"boot\"', '\"values\": [', '\"name\":', '\"hints\": [', '\"\"\"', '\"'),\n",
       "       ('\"\"\";', '\";', ']', '\"description\":', '\"name\":', '\"properties\": [', '\"\"\"', '\"'),\n",
       "       ('\"\"\";', '\";', ']', '\"name\":', '\"name\":', '\"properties\": [', '\"ignored\":', '\"\"\"', '\"'),\n",
       "       ('\"\"\";', '\";', ': []', '\"ignored\":', ': []', ': []', ': []', '\"\"\"', '\"'),\n",
       "       ('\"\"\";', '\";', ': []', ': []', ']', '\"dummy\":', ': \"some()\"', '\"sourceType\":', '\"description\":', '\"type\":', ': \"g\"', '\"groups\": [', '\"\"\"', '\"'),\n",
       "       ('\"\"\";', '\";', ': []', ']', '\"dummy\":', ': true', ': \"v17\"', ': \"name-new\"', '\"reason\":', '\"level\":', '\"deprecation\":', ': \"value\"', '\"sourceType\":', '\"description\":', '\"type\":', '\"name\":', '\"properties\": [', ': []', '\"\"\"', '\"'),\n",
       "       ('\"\"\";', '\";', ': []', ']', ': true', '\"dummy\":', ': \"v17\"', ': \"name-new\"', '\"reason\":', '\"level\":', '\"deprecation\":', ': \"value\"', '\"sourceType\":', '\"description\":', '\"type\":', '\"name\":', '\"properties\": [', ': []', '\"\"\"', '\"'),\n",
       "       ('\"\"\";', '\";', ']', '\"dummy\":', ': []', ': []', '\"name\":', '\"hints\": [', ': []', ': []', '\"\"\"', '\"'),\n",
       "       ('\"\"\";', '\";', ']', ': []', ']', '\"dummy\":', '\"description\":', '\"value\":', '\"values\": [', '\"name\":', '\"hints\": [', ': []', ': []', '\"\"\"', '\"'),\n",
       "       ('\"\"\";', '\";', ']', ']', '\"dummy\":', '\"target\":', '\"parameters\":', '\"name\":', '\"providers\": [', ': []', '\"name\":', '\"hints\": [', ': []', ': []', '\"\"\"', '\"'),\n",
       "       ('\"\"\";', '\";', '\"dummy\":', ': []', '\"ignored\":', '\"\"\"', '\"'),\n",
       "       ('\"\"\";', '\";', ']', ': true', '\"name\":', '\"properties\": [', '\"ignored\":', '\"\"\"', '\"'),\n",
       "       ('annotatedElement',), ('httpConnection',),\n",
       "       ('parent));\\n\\t\\t}', 'Class.forName(', 'String className) throws ClassNotFoundException {\\n\\t\\t\\tthis(', '?> type) {\\n\\n\\t\\tInstantiator(ClassLoader', 'record Instantiator<T>(ClassLoader parent, Class', '('),\n",
       "       ('?>... parameterTypes) {', 'record Using<T>(Instantiator<T> instantiator, Class', '('),\n",
       "       ('nestedJarEntry',), ('nestedPath',), ('nestedJarFile',),\n",
       "       ('jarUrlConnection',),\n",
       "       ('() throws IOException {', '\"\"\";\\n\\t}', '\";', '\"', '\"'),\n",
       "       ('byteArrayOutputStream',), ('customLoaderLayout',),\n",
       "       ('repackagingLayout',), ('jarArchiveEntry',),\n",
       "       ('httpURLConnection',), ('httpURLConnection', 'httpConnection'),\n",
       "       ('jarEntry',), ('wrapper', 'file'), ('abstractBuildLog',),\n",
       "       ('this(address, false, null)', 'DockerConnectionConfiguration {\\n\\n\\t\\tpublic'),\n",
       "       ('addressConfiguration', 'contextConfiguration'), ('binding',),\n",
       "       ('env bash\\n\\t\\t\\t\\techo \"---> build\"\\n\\t\\t\\t\\t\"\"\";\\n\\t\\ttry (TarArchiveOutputStream tar = new TarArchiveOutputStream(Files.newOutputStream(archive))) {', 'TarArchiveOutputStream tar =', '\";', '\"\\n\\t\\t\\t\\t#!', '\"\\n\\t\\t\\t\\t#', 'env bash\\n\\t\\t\\t\\techo \"---> detect\"\\n\\t\\t\\t\\t\"\"\";\\n\\t\\tString', '\";', '\"\\n\\t\\t\\t\\t#!', '\"\\n\\t\\t\\t\\t#'),\n",
       "       ('Credential', ';', 'Credential credentials = getCredentials(\"credentials.json\");\\n\\t\\tassertThat(credentials.getUsername()).isEqualTo(\"user\");\\n\\t\\tassertThat(credentials.getSecret()).isEqualTo(\"secret\");\\n\\t\\tassertThat(credentials.getServerUrl()).isNull();', 'name = \"credentials.json\", content = \"\"\"\\n\\t\\t\\t{\\n\\t\\t\\t  \"Username\": \"user\",\\n\\t\\t\\t  \"Secret\": \"secret\"\\n\\t\\t\\t}\\n\\t\\t\\t\"\"\")\\n\\tvoid createWhenNoServerUrl() throws Exception', '\")', '\"Secret\":', ': \"user\"', '\"\"\"', '\"', ';', 'Credential credentials = getCredentials(\"credentials.json\");\\n\\t\\tassertThat(credentials.getUsername()).isEqualTo(\"<token>\");\\n\\t\\tassertThat(credentials.getSecret()).isEqualTo(\"secret\");\\n\\t\\tassertThat(credentials.getServerUrl()).isEqualTo(\"https://index.docker.io/v1/\");', 'name = \"credentials.json\", content = \"\"\"\\n\\t\\t\\t{\\n\\t\\t\\t  \"ServerURL\": \"https://index.docker.io/v1/\",\\n\\t\\t\\t  \"Username\": \"<token>\",\\n\\t\\t\\t  \"Secret\": \"secret\"\\n\\t\\t\\t}\\n\\t\\t\\t\"\"\")\\n\\tvoid createWhenTokenCredentials() throws Exception', '\")', '\"Secret\":', ': \"<token>\"', '\"ServerURL\":', '\"\"\"', '\"', ';', 'Credential credentials = getCredentials(\"credentials.json\");\\n\\t\\tassertThat(credentials.getUsername()).isEqualTo(\"user\");\\n\\t\\tassertThat(credentials.getSecret()).isEqualTo(\"secret\");\\n\\t\\tassertThat(credentials.getServerUrl()).isEqualTo(\"https://index.docker.io/v1/\");', 'name = \"credentials.json\", content = \"\"\"\\n\\t\\t\\t{\\n\\t\\t\\t  \"ServerURL\": \"https://index.docker.io/v1/\",\\n\\t\\t\\t  \"Username\": \"user\",\\n\\t\\t\\t  \"Secret\": \"secret\"\\n\\t\\t\\t}\\n\\t\\t\\t\"\"\")\\n\\tvoid createWhenUserCredentials() throws Exception', '\")', '\"Secret\":', ': \"user\"', '\"ServerURL\":', '\"\"\"', '\"'),\n",
       "       ('classpath',), ('library',), ('moduleDependency',), ('module',),\n",
       "       ('closure', 'Object[]'), ('(module) ->', '(module) ->'),\n",
       "       ('(module) ->',), ('qname', 'node'), ('componentWithVariants',),\n",
       "       ('identifier',), ('standardOptions',), ('constructor',),\n",
       "       ('javaMethod',), ('type',), ('passwordCredentials',),\n",
       "       ('forbidden',), ('otherVersion',), ('abstractDependencyVersion',),\n",
       "       ('otherReleaseTrain',), ('candidateReleaseTrain',),\n",
       "       ('otherArtifactDependencyVersion',), ('commandException',),\n",
       "       ('child',), ('metadata',), ('runProcessCommand',),\n",
       "       ('\"\"\";\\n\\t\\tStreamSource', '\";', '\"\"\"\\n\\t\\t\\t\\t<hr:HolidayRequest xmlns:hr=\"https://company.example.com/hr/schemas\">\\n\\t\\t\\t\\t\\t<hr:Holiday>\\n\\t\\t\\t\\t\\t\\t<hr:StartDate>2013-10-20</hr:StartDate>\\n\\t\\t\\t\\t\\t\\t<hr:EndDate>2013-11-22</hr:EndDate>\\n\\t\\t\\t\\t\\t</hr:Holiday>\\n\\t\\t\\t\\t\\t<hr:Employee>\\n\\t\\t\\t\\t\\t\\t<hr:Number>1</hr:Number>\\n\\t\\t\\t\\t\\t\\t<hr:FirstName>John</hr:FirstName>\\n\\t\\t\\t\\t\\t\\t<hr:LastName>Doe</hr:LastName>\\n\\t\\t\\t\\t\\t</hr:Employee>\\n\\t\\t\\t\\t</hr:', '</', '</', '<', '<', '<', '<', '<', '<', '<', '</', '<', '<', '<', '<', '<', '\"', '\"'),\n",
       "       ('configurableBeanFactory',), ('mockClientHttpRequest',),\n",
       "       ('targetException',),\n",
       "       ('failedEvent', 'preparedEvent', 'startingEvent'),\n",
       "       ('genericContext',), ('classPathChangedEvent',),\n",
       "       (';\\n\\t}\\n\\n\\t@Test\\n\\t@WithResource(name = \"templates/data-dialect.html\"', '<span th:text=\"${foo}\">foo</span>\\n\\t\\t\\t\\t\\t    </div>\\n\\t\\t\\t\\t\\t  </body>\\n\\t\\t\\t\\t\\t</html>\\n\\t\\t\\t\\t\\t\"\"\")\\n\\tvoid createLayoutFromConfigClass() {', '\")', '</', '</', '</', '<', '<div layout:', '<', '</', '<', '<title layout:', '<', '\"https://www.thymeleaf.org\" xmlns:layout=\"https://www.ultraq.net.nz/web/thymeleaf/layout\" layout:', 'html xmlns:', '\"', '\"'),\n",
       "       ('ConnectionFactory', 'Wrapped<?>', 'optionsCapableConnectionFactory'),\n",
       "       ('connectionPool',), ('Integer', 'String'), ('jsonNode',),\n",
       "       ('hierarchicalBeanFactory', 'listableBeanFactory'),\n",
       "       ('keyDeserializer', 'jsonDeserializer', 'jsonSerializer'),\n",
       "       ('()', '()', 'this(host, port, protocol, null, null)', 'public Node(String host, int port, Node.Protocol protocol)'),\n",
       "       ('asyncTaskExecutor',), ('abstractResolver',), ('bindingResult',),\n",
       "       ('methodValidationResult',), ('jacksonJsonHttpMessageConverter',),\n",
       "       ('resourceHandler',), ('handlerMapping',),\n",
       "       ('partEventHttpMessageReader', 'defaultPartHttpMessageReader'),\n",
       "       ('responseStatusException',),\n",
       "       ('bindingResult', 'responseStatusException', 'methodValidationResult', 'bindingResult'),\n",
       "       ('webEndpointResponse',), ('serverCodecConfigurer',),\n",
       "       ('encoderHttpMessageWriter',), ('jacksonJsonEncoder',),\n",
       "       ('resourceWebHandler',), ('simpleMapping',),\n",
       "       ('compositeHealthContributor', 'healthIndicator'), ('ex',),\n",
       "       ('public Entry',), ('list',), ('dom',), ('Element',), ('compile',),\n",
       "       ('projectComponentId', 'moduleComponentId'), ('Double',),\n",
       "       ('duration', 'Double'), ('meterRegistry',),\n",
       "       ('readyEvent', 'startedEvent'), ('compositeMeterRegistry',),\n",
       "       ('pushGatewayTaskScheduler',),\n",
       "       ('threadPoolTaskScheduler', 'threadPoolTaskExecutor'),\n",
       "       ('jsonMapperBuilder',), ('groups',), ('additionalPathsMapper',),\n",
       "       ('webEndpoint',),\n",
       "       ('resourceLoader', 'webServerApplicationContext'),\n",
       "       ('applicationFailedEvent',), ('cfException',),\n",
       "       ('httpsURLConnection',), ('webClientResponseException',),\n",
       "       ('webFilterChainProxy',), ('DataSource',),\n",
       "       ('delegatingDataSource',), ('routingDataSource',),\n",
       "       ('\"\"\"\\n\\t\\t\\t\\t{\"test\":\"Spring Boot (10)\"}\"\"\");\\n\\t}\\n\\n\\t@Test\\n\\tvoid ofAddingUnnamedSelf() {\\n\\t\\tJsonWriter<Person> writer = JsonWriter.of((members) -> members.add());', '\");', '\"'),\n",
       "       ('\"\"\"\\n\\t\\t\\t\\t{\"name\":\"value\"}\"\"\");\\n\\t}\\n\\n\\t@Test\\n\\tvoid writeWhenNull() {', '\");', '\"'),\n",
       "       ('namedConversionService',),\n",
       "       ('\"\"\"\\n\\t\\t\\t\\t{\\n\\t\\t\\t\\t  \"service\": {\\n\\t\\t\\t\\t    \"name\": \"spring\",\\n\\t\\t\\t\\t    \"version\": \"1.2.3\",\\n\\t\\t\\t\\t    \"environment\": \"prod\",\\n\\t\\t\\t\\t    \"node\": {\\n\\t\\t\\t\\t      \"name\": \"boot\"\\n\\t\\t\\t\\t    }\\n\\t\\t\\t\\t  }\\n\\t\\t\\t\\t}\"\"\".replaceAll(\"\\\\\\\\s+\", \"\"));\\n\\t}\\n\\n\\t@Test\\n\\tvoid shouldRegisterRuntimeHints() throws Exception {\\n\\t\\tRuntimeHints hints = new RuntimeHints();\\n\\t\\tnew ElasticCommonSchemaPropertiesRuntimeHints().registerHints(hints, getClass().getClassLoader());\\n\\t\\tassertThat(RuntimeHintsPredicates.reflection().onType(ElasticCommonSchemaProperties.class)).accepts(hints);\\n\\t\\tassertThat(RuntimeHintsPredicates.reflection()\\n\\t\\t\\t.onConstructorInvocation(ElasticCommonSchemaProperties.class.getConstructor(Service.class))).accepts(hints);\\n\\t\\tassertThat(RuntimeHintsPredicates.reflection().onType(Service.class)).accepts(hints);', '{\\n\\t\\tRuntimeHints hints', '\", \"\"));\\n\\t}\\n\\n\\t@Test\\n\\tvoid shouldRegisterRuntimeHints() throws', '\"));', '\\\\\\\\', '\"'),\n",
       "       ('.contains(\"Hello\");\\n\\t}\\n\\n\\t@Test\\n\\t@WithMultiProfileNamesXmlResource', '\"Hello\"', ';\\n\\t\\tassertThat(this.output', 'include file=\"${resourceRoot}/include-with-profile.xml\"/>\\n\\t\\t\\t</configuration>\\n\\t\\t\\t\"\"\")\\n\\t@WithResource(name = \"include-with-profile.xml\", content = \"\"\"\\n\\t\\t\\t<included>\\n\\t\\t\\t\\t<springProfile name=\"production\">\\n\\t\\t\\t\\t\\t<logger name=\"org.springframework.boot.logging.logback\" level=\"TRACE\"/>\\n\\t\\t\\t\\t</springProfile>\\n\\t\\t\\t</included>\\n\\t\\t\\t\"\"\")\\n\\tvoid profileInIncludeActive() throws Exception {\\n\\t\\tthis.environment.setActiveProfiles(\"production\");\\n\\t\\tinitialize(\"profile-in-include.xml\");', ';\\n\\t\\tinitialize(\"profile-in-include.xml\"', '\"\"\")\\n\\tvoid profileInIncludeActive() throws Exception {', '\")', '</', '/>\\n\\t\\t\\t\\t<', '\"org.springframework.boot.logging.logback\"', '<logger', '<springProfile', '\"', '\"', '\")', '/>\\n\\t\\t\\t<', '/>', '<include', '?>', '\"1.0\"', '?xml', '\"', '\"'),\n",
       "       (';', 'this.loggingSystem.beforeInitialize();\\n\\t\\tinitialize(this.initializationContext, null, getLogFile(tmpDir() + \"/tmp.log\", null));\\n\\t\\tLoggerContext loggerContext = this.logger.getLoggerContext();\\n\\t\\tassertThat(loggerContext.getStatusManager().getCopyOfStatusListenerList()).allSatisfy((listener) -> {\\n\\t\\t\\tassertThat(listener).isInstanceOf(SystemStatusListener.class);\\n\\t\\t\\tassertThat(listener).hasFieldOrPropertyWithValue(\"debug\", false);\\n\\t\\t});\\n\\t\\tAlwaysFailAppender appender = new AlwaysFailAppender();\\n\\t\\tappender.setContext(loggerContext);\\n\\t\\tappender.start();\\n\\t\\tthis.logger.addAppender(appender);\\n\\t\\tthis.logger.info(\"Hello world\");', 'name = \"logback-include-status-listener.xml\", content = \"\"\"\\n\\t\\t\\t<?xml version=\"1.0\" encoding=\"UTF-8\"?>\\n\\t\\t\\t<configuration>\\n\\t\\t\\t\\t<statusListener class=\"ch.qos.logback.core.status.OnConsoleStatusListener\"/>\\n\\t\\t\\t\\t<include resource=\"org/springframework/boot/logging/logback/defaults.xml\"/>\\n\\t\\t\\t\\t<appender name=\"CONSOLE\" class=\"ch.qos.logback.core.ConsoleAppender\">\\n\\t\\t\\t\\t\\t<encoder>\\n\\t\\t\\t\\t\\t\\t<pattern>[%p] - %m%n</pattern>\\n\\t\\t\\t\\t\\t</encoder>\\n\\t\\t\\t\\t</appender>\\n\\t\\t\\t\\t<root level=\"INFO\">\\n\\t\\t\\t\\t\\t<appender-ref ref=\"CONSOLE\"/>\\n\\t\\t\\t\\t</root>\\n\\t\\t\\t</configuration>\\n\\t\\t\\t\"\"\")\\n\\tvoid logbackSystemStatusListenerShouldBeRegisteredWhenCustomLogbackXmlHasStatusListener(CapturedOutput output) {\\n\\t\\tthis.loggingSystem.beforeInitialize();\\n\\t\\tinitialize(this.initializationContext, \"classpath:logback-include-status-listener.xml\", null);\\n\\t\\tLoggerContext loggerContext = this.logger.getLoggerContext();\\n\\t\\tassertThat(loggerContext.getStatusManager().getCopyOfStatusListenerList()).hasSize(2)\\n\\t\\t\\t.allSatisfy((listener) -> assertThat(listener).isInstanceOf(OnConsoleStatusListener.class))\\n\\t\\t\\t.anySatisfy((listener) -> assertThat(listener).isInstanceOf(SystemStatusListener.class));\\n\\t\\tthis.logger.info(\"Hello world\");\\n\\t\\tassertThat(output).contains(\"Hello world\");\\n\\t}\\n\\n\\t@Test\\n\\tvoid logbackSystemStatusListenerShouldBeRegistered(CapturedOutput output)', 'null);\\n\\t\\tLoggerContext', ';\\n\\t\\tinitialize(this.initializationContext, \"classpath:logback-include-status-listener.xml\"', '<appender-ref ref=\"CONSOLE\"/>\\n\\t\\t\\t\\t</root>\\n\\t\\t\\t</configuration>\\n\\t\\t\\t\"\"\")\\n\\tvoid logbackSystemStatusListenerShouldBeRegisteredWhenCustomLogbackXmlHasStatusListener(CapturedOutput output) {', '\")', '</', '/>\\n\\t\\t\\t\\t<', 'ref', '<root', '</', '</', '<', '>\\n\\t\\t\\t\\t\\t\\t<pattern>[%p] -', '%p', '<', '\"CONSOLE\"', 'appender', '/>', 'include', '/>', '<statusListener', '?>', '\"1.0\"', '?xml', '\"', '\"'),\n",
       "       ('void', ';\\n\\t\\tassertThat(output).contains(\"<springProfile> elements cannot be nested within an\");\\n\\t}\\n\\n\\t@', '(\"<springProfile> elements cannot be nested within an\"', ').', ';\\n\\t\\tinitialize(this.initializationContext, \"classpath:springprofile-in-root.xml\", null);\\n\\t\\tthis.logger.info(\"Hello world\"', 'null);\\n\\t\\tthis.logger.', '<appender-ref ref=\"CONSOLE\"/>\\n\\t\\t\\t\\t\\t</springProfile>\\n\\t\\t\\t\\t</root>\\n\\t\\t\\t</configuration>\\n\\t\\t\\t\"\"\")\\n\\tvoid springProfileIfNestedWithinSecondPhaseElementSanityChecker(CapturedOutput output) {', '\")', '</', '</', '/>\\n\\t\\t\\t\\t\\t<', 'ref', '<springProfile', '<root', '</', '</', '<', 'n', '{1}:', '] ${PID:-????}', '>%property{LOG_FILE} [', '{LOG_FILE}', '<', '<', '\"CONSOLE\"', '<appender', '\"', '\"'),\n",
       "       ('(ex.getSuppressed())\\n\\t\\t\\t\\t.hasAtLeastOneElementOfType(DynamicClassLoadingException.class));\\n\\t}\\n\\n\\t@Test\\n\\t@WithResource(name = \"invalid-format.txt\", content = \"Not XML\")\\n\\tvoid whenConfigLocationIsNotXmlThenIllegalArgumentExceptionShouldBeThrown', '));\\n\\t}\\n\\n\\t@Test\\n\\t@WithResource(name = \"invalid-format.txt\", content = \"Not XML\")\\n\\tvoid', '())', '.isThrownBy(() -> initialize(this.initializationContext, \"classpath:broken.xml\",\\n\\t\\t\\t\\t\\tgetLogFile(tmpDir() + \"/tmp.log\", null)))\\n\\t\\t\\t.satisfies((ex) ->', '(ex', '(', ', \"classpath:broken.xml\",\\n\\t\\t\\t\\t\\tgetLogFile(', '(', ';\\n\\t\\tassertThatIllegalStateException(', '<appender-ref ref=\"CONSOLE\"/>\\n\\t\\t\\t\\t</root>\\n\\t\\t\\t</configuration>\\n\\t\\t\\t\"\"\")\\n\\tvoid whenConfigurationErrorIsDetectedUnderlyingCausesAreIncludedAsSuppressedExceptions() {', '\")', '</', '/>\\n\\t\\t\\t\\t<', 'ref', '<root', '</', '</', '<', 'n', '>${LOG_FILE} [%t] ${PID:-????} %c{1}:', '%t', '{LOG_FILE}', '<', '<', '\"CONSOLE\"', '<appender', '?>', '\"1.0\"', '?xml', '\"', '\"'),\n",
       "       ('(', '(\"No extension and works!\");\\n\\t}\\n\\n\\t@Test\\n\\tvoid', '())', '(\"No extension and works!\");', '+ \"/tmp.log\", null));\\n\\t\\tthis.', ';\\n\\t\\tinitialize(this.initializationContext, \"classpath:without-extension\", getLogFile(tmpDir(', '<appender-ref ref=\"CONSOLE\"/>\\n\\t\\t\\t</root>\\n\\t\\t\\t</configuration>\\n\\t\\t\\t\"\"\")\\n\\tvoid whenConfigLocationIsXmlFileWithoutExtensionShouldWork(CapturedOutput output) {', '\")', '</', '/>\\n\\t\\t\\t<', 'ref', '<root', '</', '</', '<', '>', '<', '<', '\"CONSOLE\"', '<appender', '\"', '\"'),\n",
       "       (';', 'this.application.setAdditionalProfiles(\"other\");\\n\\t\\tConfigurableApplicationContext context = this.application.run();\\n\\t\\tassertThat(context.getEnvironment().getProperty(\"my.property\")).isEqualTo(\"fromotherprofile\");', '\"\"\"\\n\\t\\t\\t---\\n\\t\\t\\tmy:\\n\\t\\t\\t  property: fromyamlfile\\n\\t\\t\\t  other: notempty\\n\\t\\t\\t---\\n\\t\\t\\tspring.config.activate.on-profile: other\\n\\t\\t\\tmy:\\n\\t\\t\\t  property: fromotherprofile\\n\\t\\t\\t---\\n\\t\\t\\tspring.config.activate.on-profile: \"!other\"\\n\\t\\t\\tmy:\\n\\t\\t\\t  property: fromnototherprofile\\n\\t\\t\\t  notother: foo\\n\\n\\t\\t\\t\"\"\")\\n\\tvoid runWhenHasNegatedProfilesWithProfileActiveLoadsExpectedProperties()', '\")', ': other\\n\\t\\t\\tmy:\\n\\t\\t\\t  property: fromotherprofile', ':\\n\\t\\t\\t  property: fromyamlfile\\n\\t\\t\\t  other: notempty', '\"', '\"', ';', 'ConfigurableApplicationContext context = this.application.run();\\n\\t\\tassertThat(context.getEnvironment().getProperty(\"my.property\")).isEqualTo(\"fromnototherprofile\");', '\"\"\"\\n\\t\\t\\t---\\n\\t\\t\\tmy:\\n\\t\\t\\t  property: fromyamlfile\\n\\t\\t\\t  other: notempty\\n\\t\\t\\t---\\n\\t\\t\\tspring.config.activate.on-profile: other\\n\\t\\t\\tmy:\\n\\t\\t\\t  property: fromotherprofile\\n\\t\\t\\t---\\n\\t\\t\\tspring.config.activate.on-profile: \"!other\"\\n\\t\\t\\tmy:\\n\\t\\t\\t  property: fromnototherprofile\\n\\t\\t\\t  notother: foo\\n\\n\\t\\t\\t\"\"\")\\n\\tvoid runWhenHasNegatedProfilesLoadsExpectedProperties()', '\")', ': other\\n\\t\\t\\tmy:\\n\\t\\t\\t  property: fromotherprofile', ':\\n\\t\\t\\t  property: fromyamlfile\\n\\t\\t\\t  other: notempty', '\"', '\"'),\n",
       "       (';', 'Map<String, Object> source = new HashMap<>();\\n\\t\\tsource.put(\"mapkey\", \"mapvalue\");\\n\\t\\tMapPropertySource propertySource = new MapPropertySource(\"defaultProperties\", source) {\\n\\n\\t\\t\\t@Override\\n\\t\\t\\tpublic Object getProperty(String name) {\\n\\t\\t\\t\\tif (\"spring.config.name\".equals(name)) {\\n\\t\\t\\t\\t\\treturn \"gh17001\";\\n\\t\\t\\t\\t}\\n\\t\\t\\t\\treturn super.getProperty(name);\\n\\t\\t\\t}\\n\\n\\t\\t};\\n\\t\\tStandardEnvironment environment = new StandardEnvironment();\\n\\t\\tenvironment.getPropertySources().addFirst(propertySource);\\n\\t\\tthis.application.setEnvironment(environment);\\n\\t\\tConfigurableApplicationContext context = this.application.run();\\n\\t\\tassertThat(context.getEnvironment().getProperty(\"mapkey\")).isEqualTo(\"mapvalue\");', 'name = \"META-INF/spring.factories\", content = \"\"\"\\n\\t\\t\\torg.springframework.boot.env.PropertySourceLoader=\\\\\\n\\t\\t\\torg.springframework.boot.context.config.TestPropertySourceLoader1,\\\\\\n\\t\\t\\torg.springframework.boot.context.config.TestPropertySourceLoader2\\n\\t\\t\\t\"\"\")\\n\\tvoid runWhenPropertiesFromCustomPropertySourceLoaderShouldLoadFromCustomSource() {\\n\\t\\tConfigurableApplicationContext context = this.application.run();\\n\\t\\tassertThat(context.getEnvironment().getProperty(\"customloader1\")).isEqualTo(\"true\");\\n\\t}\\n\\n\\t@Test\\n\\t@WithResource(name = \"gh17001.properties\", content = \"gh17001loaded=true\")\\n\\tvoid runWhenCustomDefaultPropertySourceLoadsWithoutReplacingCustomSource()', ';', 'ConfigurableApplicationContext context = this.application.run();', '\")', '\\\\\\n\\t\\t\\torg.springframework.boot.context.config.', '\\\\', '\\\\', '\\\\', '\"\"\"', '\"'),\n",
       "       (';\\n\\t\\tassertThat(environment.containsProperty(\"test:boot\")).isTrue();\\n\\t\\tassertThat(environment.containsProperty(\"test:boot:ps\")).isTrue();\\n\\t}\\n\\n\\t@Test // gh-26593\\n\\t@WithResource(name = \"application.properties\", content = \"\"\"\\n\\t\\t\\troot=true\\n\\t\\t\\tv1=root\\n\\t\\t\\tv2=root\\n\\t\\t\\t\"\"\")\\n\\t@WithResource(name = \"application-p1.properties\", content = \"\"\"\\n\\t\\t\\troot-p1=true\\n\\t\\t\\tv1=root-p1\\n\\t\\t\\tv2=root-p1\\n\\t\\t\\t\"\"\")\\n\\t@WithResource(name = \"application-p2.properties\", content = \"\"\"\\n\\t\\t\\troot-p2=true\\n\\t\\t\\tv1=root-p2\\n\\t\\t\\tv2=root-p2\\n\\t\\t\\t\"\"\")\\n\\t@WithResource(name = \"config/application.properties\", content = \"\"\"\\n\\t\\t\\tconfig=true\\n\\t\\t\\tv1=config\\n\\t\\t\\tv2=config\\n\\t\\t\\t\"\"\")\\n\\t@WithResource(name = \"config/application-p1.properties\", content = \"\"\"\\n\\t\\t\\tconfig-p1=true\\n\\t\\t\\tv1=config-p1\\n\\t\\t\\t#v2 intentionally missing\\n\\t\\t\\t\"\"\")\\n\\t@WithResource(name = \"config/application-p2.properties\", content = \"\"\"\\n\\t\\t\\tconfig-p2=true\\n\\t\\t\\tv1=config-p2\\n\\t\\t\\t#v2 intentionally missing\\n\\t\\t\\t\"\"\")', '(environment.containsProperty(\"test:boot\")).isTrue();\\n\\t\\tassertThat(environment.containsProperty(\"test:boot:ps\")).isTrue', '(\"test:boot:ps\"))', '();', '(\"test:boot\"))', ';\\n\\t\\tConfigurableEnvironment environment = context.getEnvironment(', '\\\\\\n\\t\\t\\torg.springframework.boot.context.config.ConfigDataEnvironmentPostProcessorIntegrationTests$Loader\\n\\t\\t\\t\"\"\")\\n\\tvoid runWhenHasProfileSpecificImportWithCustomImportResolvesProfileSpecific() {\\n\\t\\tConfigurableApplicationContext', '\")', '\\\\', '\\\\\\n\\t\\t\\torg.springframework.boot.context.config.ConfigDataEnvironmentPostProcessorIntegrationTests$LocationResolver', '\\\\', '\"\"\"', '\"'),\n",
       "       ('standardResource',),\n",
       "       ('(\"testbootstrap:test\"));\\n\\t\\t}\\n\\t}\\n\\n\\t@Configuration\\n\\tstatic class', '(bean.getLocation().getResolverHelper().getLocation())\\n\\t\\t\\t\\t.isEqualTo', '())', '()', '()'),\n",
       "       (';', 'load(DefaultsInJavaConfiguration.class);\\n\\t\\tBasicProperties bean = this.context.getBean(BasicProperties.class);', 'this.context.getBean(BasicProperties.class);\\n\\t\\tassertThat(bean.name).isEqualTo(\"bar\");\\n\\t}\\n\\n\\t@Test\\n\\tvoid loadWhenBindingWithDefaultsInJavaConfigurationShouldBind()', 'name = \"testProperties.xml\",\\n\\t\\t\\tcontent = \"\"\"\\n\\t\\t\\t\\t\\t<?xml version=\"1.0\" encoding=\"UTF-8\"?>\\n\\t\\t\\t\\t\\t<beans xmlns=\"http://www.springframework.org/schema/beans\"\\n\\t\\t\\t\\t\\t\\txmlns:xsi=\"http://www.w3.org/2001/XMLSchema-instance\"\\n\\t\\t\\t\\t\\t\\txsi:schemaLocation=\"http://www.springframework.org/schema/beans https://www.springframework.org/schema/beans/spring-beans.xsd\">\\n\\n\\t\\t\\t\\t\\t\\t<bean\\n\\t\\t\\t\\t\\t\\t\\tid=\"org.springframework.boot.context.properties.ConfigurationPropertiesTests$BasicProperties\"\\n\\t\\t\\t\\t\\t\\t\\tclass=\"org.springframework.boot.context.properties.ConfigurationPropertiesTests$BasicProperties\">\\n\\t\\t\\t\\t\\t\\t\\t<property name=\"name\" value=\"bar\"/>\\n\\t\\t\\t\\t\\t\\t</bean>\\n\\n\\t\\t\\t\\t\\t</beans>\\n\\t\\t\\t\\t\\t\"\"\")\\n\\tvoid loadWhenBindingWithDefaultsInXmlShouldBind() {\\n\\t\\tremoveSystemProperties();\\n\\t\\tload(new Class<?>[] { DefaultsInXmlConfiguration.class });\\n\\t\\tBasicProperties', '\"\"\")\\n\\tvoid loadWhenBindingWithDefaultsInXmlShouldBind() {', '\")', '</', '/>\\n\\t\\t\\t\\t\\t\\t<', '\"name\"', '<property', '\"org.springframework.boot.context.properties.ConfigurationPropertiesTests$BasicProperties\"', '<bean', '\"http://www.springframework.org/schema/beans\"\\n\\t\\t\\t\\t\\t\\txmlns:xsi=\"http://www.w3.org/2001/XMLSchema-instance\"\\n\\t\\t\\t\\t\\t\\txsi:', 'beans', '?>', '\"1.0\"', '?xml', '\"', '\"'),\n",
       "       ('preparedEvent',), ('textOrigin', 'propertySourceOrigin'),\n",
       "       ('underlyingSource',), ('iterable',), ('Startable',),\n",
       "       ('container',)], dtype=object)"
      ]
     },
     "execution_count": 106,
     "metadata": {},
     "output_type": "execute_result"
    }
   ],
   "source": [
    "df['ast_error_nodes'].apply(tuple).unique()"
   ]
  },
  {
   "cell_type": "code",
   "execution_count": 108,
   "id": "23d33bc8",
   "metadata": {},
   "outputs": [],
   "source": [
    "df = df[df['ast_error_count'] == 0]"
   ]
  },
  {
   "cell_type": "code",
   "execution_count": 109,
   "id": "22f302da",
   "metadata": {},
   "outputs": [
    {
     "data": {
      "text/plain": [
       "62411"
      ]
     },
     "execution_count": 109,
     "metadata": {},
     "output_type": "execute_result"
    }
   ],
   "source": [
    "len(df)"
   ]
  },
  {
   "cell_type": "code",
   "execution_count": 111,
   "id": "80eb0b1e",
   "metadata": {},
   "outputs": [
    {
     "name": "stdout",
     "output_type": "stream",
     "text": [
      "Collecting scikit-learn\n",
      "  Downloading scikit_learn-1.7.2-cp313-cp313-macosx_12_0_arm64.whl.metadata (11 kB)\n",
      "Requirement already satisfied: numpy>=1.22.0 in ./venv/lib/python3.13/site-packages (from scikit-learn) (2.3.3)\n",
      "Collecting scipy>=1.8.0 (from scikit-learn)\n",
      "  Downloading scipy-1.16.2-cp313-cp313-macosx_14_0_arm64.whl.metadata (62 kB)\n",
      "Requirement already satisfied: joblib>=1.2.0 in ./venv/lib/python3.13/site-packages (from scikit-learn) (1.5.2)\n",
      "Collecting threadpoolctl>=3.1.0 (from scikit-learn)\n",
      "  Downloading threadpoolctl-3.6.0-py3-none-any.whl.metadata (13 kB)\n",
      "Downloading scikit_learn-1.7.2-cp313-cp313-macosx_12_0_arm64.whl (8.6 MB)\n",
      "\u001b[2K   \u001b[90m━━━━━━━━━━━━━━━━━━━━━━━━━━━━━━━━━━━━━━━━\u001b[0m \u001b[32m8.6/8.6 MB\u001b[0m \u001b[31m35.2 MB/s\u001b[0m  \u001b[33m0:00:00\u001b[0m eta \u001b[36m0:00:01\u001b[0m\n",
      "\u001b[?25hDownloading scipy-1.16.2-cp313-cp313-macosx_14_0_arm64.whl (20.9 MB)\n",
      "\u001b[2K   \u001b[90m━━━━━━━━━━━━━━━━━━━━━━━━━━━━━━━━━━━━━━━━\u001b[0m \u001b[32m20.9/20.9 MB\u001b[0m \u001b[31m41.7 MB/s\u001b[0m  \u001b[33m0:00:00\u001b[0m eta \u001b[36m0:00:01\u001b[0m\n",
      "\u001b[?25hDownloading threadpoolctl-3.6.0-py3-none-any.whl (18 kB)\n",
      "Installing collected packages: threadpoolctl, scipy, scikit-learn\n",
      "\u001b[2K   \u001b[90m━━━━━━━━━━━━━━━━━━━━━━━━━━━━━━━━━━━━━━━━\u001b[0m \u001b[32m3/3\u001b[0m [scikit-learn][0m [scikit-learn]\n",
      "\u001b[1A\u001b[2KSuccessfully installed scikit-learn-1.7.2 scipy-1.16.2 threadpoolctl-3.6.0\n",
      "Note: you may need to restart the kernel to use updated packages.\n"
     ]
    }
   ],
   "source": [
    "%pip install scikit-learn"
   ]
  },
  {
   "cell_type": "code",
   "execution_count": 112,
   "id": "cd964124",
   "metadata": {},
   "outputs": [],
   "source": [
    "# 1) Deduplicate exact methods\n",
    "import hashlib\n",
    "\n",
    "df['method_hash'] = df['original_code'].apply(lambda code: hashlib.sha1(code.encode('utf-8')).hexdigest())\n",
    "df = df.drop_duplicates(subset=['method_hash'])\n",
    "\n",
    "# 2) Split repos\n",
    "from sklearn.model_selection import train_test_split\n",
    "\n",
    "repos = df['repo_url'].unique()\n",
    "train_repos, test_repos = train_test_split(repos, test_size=0.2, random_state=42)\n",
    "\n",
    "df['dataset_split'] = df['repo_url'].apply(\n",
    "    lambda r: 'train' if r in train_repos else 'test'\n",
    ")"
   ]
  },
  {
   "cell_type": "code",
   "execution_count": 116,
   "id": "d192b822",
   "metadata": {},
   "outputs": [
    {
     "data": {
      "text/plain": [
       "5486"
      ]
     },
     "execution_count": 116,
     "metadata": {},
     "output_type": "execute_result"
    }
   ],
   "source": [
    "len(df[df['dataset_split']=='train'])"
   ]
  },
  {
   "cell_type": "code",
   "execution_count": 117,
   "id": "5733fbad",
   "metadata": {},
   "outputs": [
    {
     "name": "stdout",
     "output_type": "stream",
     "text": [
      "dataset_split\n",
      "train    40223\n",
      "test     10056\n",
      "Name: count, dtype: int64\n"
     ]
    }
   ],
   "source": [
    "from sklearn.model_selection import train_test_split\n",
    "import pandas as pd\n",
    "\n",
    "df_random = df.copy()\n",
    "\n",
    "train_df, test_df = train_test_split(\n",
    "    df_random,\n",
    "    test_size=0.2,\n",
    "    random_state=42,\n",
    "    shuffle=True\n",
    ")\n",
    "\n",
    "train_df['dataset_split'] = 'train'\n",
    "test_df['dataset_split'] = 'test'\n",
    "\n",
    "\n",
    "df_random_split = pd.concat([train_df, test_df]).reset_index(drop=True)\n",
    "\n",
    "# Check counts\n",
    "print(df_random_split['dataset_split'].value_counts())\n"
   ]
  },
  {
   "cell_type": "code",
   "execution_count": 118,
   "id": "c50b6dca",
   "metadata": {},
   "outputs": [],
   "source": [
    "df_random_split.to_csv(\"methods_random_split.csv\", index=False)\n",
    "df.to_csv(\"repo_level_split.csv\", index=False)"
   ]
  },
  {
   "cell_type": "code",
   "execution_count": null,
   "id": "43b189ff",
   "metadata": {},
   "outputs": [],
   "source": []
  }
 ],
 "metadata": {
  "kernelspec": {
   "display_name": "venv",
   "language": "python",
   "name": "python3"
  },
  "language_info": {
   "codemirror_mode": {
    "name": "ipython",
    "version": 3
   },
   "file_extension": ".py",
   "mimetype": "text/x-python",
   "name": "python",
   "nbconvert_exporter": "python",
   "pygments_lexer": "ipython3",
   "version": "3.13.7"
  }
 },
 "nbformat": 4,
 "nbformat_minor": 5
}
